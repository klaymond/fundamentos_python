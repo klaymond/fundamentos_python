{
 "cells": [
  {
   "cell_type": "markdown",
   "metadata": {},
   "source": [
    "# Álgebra booleana\n",
    "\n",
    "### Digitos/estados\n",
    "En el álgebra booleana simplificamos el sistema númerico decimal al que estamos acostumbrados a un sistema binario. En ves de tener los diez digitos 0, 1, 2, 3, 4, 5, 6, 7, 8 y 9 tenemos sólo dos `0` y `1`. Al quedarnos únicamente con dos dígitos también los podemos representar como polos opuestos o estados: sí/no, verdadero/falso, etc.  \n",
    "Aunque las computadoras hacen todos los cálculos en estados binarios, Python nos facilita la vida y nos permite preocuparnos de estos estados sólo al hacer operaciones lógicas.\n",
    "### Operaciones lógicas\n",
    "Las tres operaciones lógicas básicas son (o), (y), (negado) [or, and, not].\n",
    "#### o/or\n",
    "El operador `or` nos permite comparar dos declaraciones lógicas para que sólo una tenga que ser verdadera. Por ejemplo yo puedo tener dos declaraciones:\n",
    "1. Para aprender a programar facilmente necesito ser ingeniera\n",
    "2. Para aprender a programar facilmente necesito tener un muy buen maestro  \n",
    "\n",
    "Si las junto con un operador `or` obtengo la declaración compuesta \"Para aprender a programar necesito ser ingeniera o tener un muy buen maestro\". En esta declaración compuesta necesito que una o ambas de las declaraciones sencillas sea verdadera para que todo sea verdadero. Por ejemplo:  \n",
    "\n",
    "1. Si eres ingeniera pero NO tienes un buen maestro entonces puedes aprender a programar facilmente. \n",
    "2. Si NO eres ingeniera pero sí tienes un buen maestro entonces puedes aprender a programar facilmente. \n",
    "3. Si eres ingeniera y tienes un buen maestro entonces puedes aprender a programar facilmente\n",
    "4. Si NO eres ingeniera y NO tienes un buen maestro entonces NO puedes aprender a programar facilmente  \n",
    "\n",
    "#### y/and\n",
    "El operador `and` nos permite compara dos declaraciones lógicas para que ambas tengan que ser verdaderas. Por ejemplo yo puedo tener dos declaraciones:\n",
    "1. Para aprender a programar facilmente necesito ser ingeniera\n",
    "2. Para aprender a programar facilmente necesito tener un muy buen maestro  \n",
    "\n",
    "Si las junto con un operador `and` obtengo la declaración compuesta \"Para aprender a programar necesito ser ingeniera y tener un muy buen maestro\". En esta declaración compuesta necesito que una o ambas de las declaraciones sencillas sea verdadera para que todo sea verdadero. Por ejemplo:  \n",
    "\n",
    "1. Si eres ingeniera pero NO tienes un buen maestro entonces NO puedes aprender a programar facilmente. \n",
    "2. Si NO eres ingeniera pero sí tienes un buen maestro entonces NO puedes aprender a programar facilmente. \n",
    "3. Si eres ingeniera y tienes un buen maestro entonces puedes aprender a programar facilmente\n",
    "4. Si NO eres ingeniera y NO tienes un buen maestro entonces NO puedes aprender a programar facilmente\n",
    "\n",
    "#### negado/not\n",
    "El operador `not` nos permite negar una sola declaración lógica. Por ejemplo yo puedo tener la declaración:\n",
    "1. Para aprender a programar facilmente necesito ser ingeniera  \n",
    "\n",
    "Si niego esta declaración con el operador `not` obtengo la siguiente declaración:  \n",
    "1. NO necesito ser ingeniera para aprender a programar facilmente.\n",
    "\n",
    "### Operandos lógicos en Python3\n",
    "Tenemos dos operandos lógicos en Python3: `True`/`False`. A estos operandos también se les llama booleanos. Podemos usar los operadores que vimos anteriormente para hacer operaciones lógicas:\n",
    "\n",
    "#### or\n",
    "1. `False or False == False`\n",
    "2. `True or False == True`\n",
    "3. `False or True == True`\n",
    "4. `True or True == True`  \n",
    "Cambia los operandos en la caja de abajo y corre el programa para ver cómo cambia el resultado:"
   ]
  },
  {
   "cell_type": "code",
   "execution_count": 4,
   "metadata": {},
   "outputs": [
    {
     "data": {
      "text/plain": [
       "True"
      ]
     },
     "execution_count": 4,
     "metadata": {},
     "output_type": "execute_result"
    }
   ],
   "source": [
    "True or False"
   ]
  },
  {
   "cell_type": "markdown",
   "metadata": {},
   "source": [
    "#### and\n",
    "1. `False and False == False`\n",
    "2. `True and False == False`\n",
    "3. `False and True == False`\n",
    "4. `True and True == True`  \n",
    "Cambia los operandos en la caja de abajo y corre el programa para ver cómo cambia el resultado:"
   ]
  },
  {
   "cell_type": "code",
   "execution_count": 5,
   "metadata": {},
   "outputs": [
    {
     "data": {
      "text/plain": [
       "False"
      ]
     },
     "execution_count": 5,
     "metadata": {},
     "output_type": "execute_result"
    }
   ],
   "source": [
    "True and False"
   ]
  },
  {
   "cell_type": "markdown",
   "metadata": {},
   "source": [
    "#### not\n",
    "1. `not False == True`\n",
    "2. `not True == False`   \n",
    "Cambia el operando en la caja de abajo y corre el programa para ver cómo cambia el resultado:"
   ]
  },
  {
   "cell_type": "code",
   "execution_count": 3,
   "metadata": {},
   "outputs": [
    {
     "data": {
      "text/plain": [
       "True"
      ]
     },
     "execution_count": 3,
     "metadata": {},
     "output_type": "execute_result"
    }
   ],
   "source": [
    "not False"
   ]
  },
  {
   "cell_type": "markdown",
   "metadata": {},
   "source": [
    "### Comparadores\n",
    "Si recuerdan sus clases de matemáticas en la primaria tenemos varios comparadores: igual a, menor a, mayor a, menor o igual a, mayor o igual a, no es igual a. En Python los comparadores se representan de la siguiente manera:\n",
    "1. \"Igual a\" es `==`\n",
    "2. \"Menor a\" es `<`\n",
    "3. \"Mayor a\" es `>`\n",
    "4. \"Menor o igual a\" es `<=`\n",
    "5. \"Mayor o igual a\" es `>=`\n",
    "6. \"No es igual a\" es `!=`  \n",
    "\n",
    "Python no puede hacer las operaciones lógicas como las del ejemplo de arriba (con enunciados) sólo puede hacer operaciones lógicas con números usando comparadores. El resultado de una comparación es un booleano. Por ejemplo:"
   ]
  },
  {
   "cell_type": "code",
   "execution_count": 1,
   "metadata": {},
   "outputs": [
    {
     "data": {
      "text/plain": [
       "True"
      ]
     },
     "execution_count": 1,
     "metadata": {},
     "output_type": "execute_result"
    }
   ],
   "source": [
    "5 == 5"
   ]
  },
  {
   "cell_type": "markdown",
   "metadata": {},
   "source": [
    "En el ejemplo obtenemos un `True` porque, en efecto, 5 es igual a 5. Cambia el valor de alguno de los operandos y podrás ver que nos da un valor booleano de `False`. Más ejemplos:"
   ]
  },
  {
   "cell_type": "code",
   "execution_count": 9,
   "metadata": {},
   "outputs": [
    {
     "name": "stdout",
     "output_type": "stream",
     "text": [
      "False\n",
      "True\n",
      "True\n",
      "False\n"
     ]
    }
   ],
   "source": [
    "print(5 > 5)\n",
    "print(3 < 10)\n",
    "print(50 * 80 == 4000)\n",
    "print(390 * 450 <= 500 * 2)"
   ]
  },
  {
   "cell_type": "markdown",
   "metadata": {},
   "source": [
    "### Operaciones lógicas\n",
    "Ya vimos que los comparadores nos dan valores booleanos y que esos valores booleanos se pueden manipular con operaciones lógicas. Si combinamos ambos conceptos podemos crear operaciones lógicas complejas que luego nos ayudarán a crear algoritmos. Antes de correr las siguientes operaciones lógicas intenta resolverlas y decidir si nos van a dar `True`/`False`:"
   ]
  },
  {
   "cell_type": "code",
   "execution_count": null,
   "metadata": {},
   "outputs": [],
   "source": [
    "print(30 == 30 and 100 > 40)\n",
    "print(5 + 5 > 5 or 43 >= 40)\n",
    "print(not 55 > 50)\n",
    "print(3 * 4 == 12 and 25 / 5 <= 5)\n",
    "print(40 > 30 and 42 + 5 < 43)\n",
    "print(32 / 8 > 4 or 59 < 60)"
   ]
  }
 ],
 "metadata": {
  "kernelspec": {
   "display_name": "Python 3",
   "language": "python",
   "name": "python3"
  },
  "language_info": {
   "codemirror_mode": {
    "name": "ipython",
    "version": 3
   },
   "file_extension": ".py",
   "mimetype": "text/x-python",
   "name": "python",
   "nbconvert_exporter": "python",
   "pygments_lexer": "ipython3",
   "version": "3.6.9"
  }
 },
 "nbformat": 4,
 "nbformat_minor": 4
}
