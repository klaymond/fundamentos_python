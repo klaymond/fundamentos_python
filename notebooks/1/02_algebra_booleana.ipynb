{
 "cells": [
  {
   "cell_type": "markdown",
   "metadata": {},
   "source": [
    "# Álgebra booleana\n",
    "\n",
    "### Digitos/estados\n",
    "En el álgebra booleana simplificamos el sistema númerico decimal al que estamos acostumbrados a un sistema binario. En ves de tener los diez digitos 0, 1, 2, 3, 4, 5, 6, 7, 8 y 9 tenemos sólo dos `0` y `1`. Al quedarnos únicamente con dos dígitos también los podemos representar como polos opuestos o estados: sí/no, verdadero/falso, etc.  \n",
    "Aunque las computadoras hacen todos los cálculos en estados binarios, Python nos facilita la vida y nos permite preocuparnos de estos estados sólo al hacer operaciones lógicas.\n",
    "### Operaciones lógicas\n",
    "Las tres operaciones lógicas básicas son (o), (y), (negado) [or, and, not].\n",
    "#### o/or\n",
    "El operador `or` nos permite comparar dos declaraciones lógicas. Por ejemplo yo puedo tener dos declaraciones:\n",
    "1. Para aprender a programar necesito ser ingeniera\n",
    "2. Para aprender a programar necesito tener un muy buen maestro\n",
    "Si las junto con un operador `or` obtengo la declaración compuesta \"Para aprender a programar necesito ser ingeniera o tener un muy buen maestro\""
   ]
  },
  {
   "cell_type": "code",
   "execution_count": null,
   "metadata": {},
   "outputs": [],
   "source": []
  }
 ],
 "metadata": {
  "kernelspec": {
   "display_name": "Python 3",
   "language": "python",
   "name": "python3"
  },
  "language_info": {
   "codemirror_mode": {
    "name": "ipython",
    "version": 3
   },
   "file_extension": ".py",
   "mimetype": "text/x-python",
   "name": "python",
   "nbconvert_exporter": "python",
   "pygments_lexer": "ipython3",
   "version": "3.6.9"
  }
 },
 "nbformat": 4,
 "nbformat_minor": 4
}
