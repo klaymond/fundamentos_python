{
 "cells": [
  {
   "cell_type": "markdown",
   "metadata": {},
   "source": [
    "# Tipos de datos\n",
    "Cada variable va a tener un diferente tipo de dato según el valor que le asignes. Hasta ahora hemos visto tres tipos de datos:  \n",
    "1. Entero: números sin punto decimal\n",
    "2. Flotante: números con punto decimal\n",
    "3. String: texto  \n",
    "4. Booleano: True/False\n",
    "\n",
    "Cada tipo de dato se puede manipular de diferentes formas. Una de las ventajas de Python es que no te tienes que preocuparte en diferenciar los enteros y flotantes en la mayoría de las aplicaciones.  \n",
    "\n",
    "La función `type()` nos indica cuál es el tipo de dato de una variable:"
   ]
  },
  {
   "cell_type": "code",
   "execution_count": null,
   "metadata": {},
   "outputs": [],
   "source": [
    "var1 = 138\n",
    "var2 = 80.5\n",
    "var3 = 'Hola, mundo'\n",
    "var4 = True\n",
    "\n",
    "print(type(var1))\n",
    "print(type(var2))\n",
    "print(type(var3))\n",
    "print(type(var4))"
   ]
  },
  {
   "cell_type": "markdown",
   "metadata": {},
   "source": [
    "No podemos sumar, por ejemplo, un entero y un string:"
   ]
  },
  {
   "cell_type": "code",
   "execution_count": null,
   "metadata": {},
   "outputs": [],
   "source": [
    "print(var1 + var3)"
   ]
  },
  {
   "cell_type": "markdown",
   "metadata": {},
   "source": [
    "Tampoco podemos sumar dos enteros de tipo string ya que sumar dos strings sólo nos da un string concatenado de ambas strings sumadas:"
   ]
  },
  {
   "cell_type": "code",
   "execution_count": null,
   "metadata": {},
   "outputs": [],
   "source": [
    "string_entero1 = \"345\"\n",
    "string_entero2 = \"400\"\n",
    "print(string_entero1 + string_entero2)"
   ]
  },
  {
   "cell_type": "markdown",
   "metadata": {},
   "source": [
    "A veces podemos recibir información numérica en forma de string y la tenemos que convertir a entero o vice versa. Para eso están las funciones:\n",
    "1. `int()` para convertir de un tipo a entero\n",
    "2. `float()` para convertir de un tipo a flotante\n",
    "3. `str()` para convertir de un tipo a string  \n",
    "\n",
    "Ejemplo:"
   ]
  },
  {
   "cell_type": "code",
   "execution_count": null,
   "metadata": {},
   "outputs": [],
   "source": [
    "entero = 340\n",
    "entero_a_float = float(entero)\n",
    "entero_a_string = str(entero)\n",
    "print(\"Conversiones de entero a otros tipos:\")\n",
    "print(entero)\n",
    "print(entero_a_float)\n",
    "print(entero_a_string)\n",
    "print()\n",
    "\n",
    "flotante = 356.89\n",
    "float_a_entero = int(flotante)\n",
    "float_a_string = str(flotante)\n",
    "print(\"Conversiones de float a otros tipos:\")\n",
    "print(flotante)\n",
    "print(float_a_entero)\n",
    "print(float_a_string)\n",
    "print()\n",
    "\n",
    "string = \"435\"\n",
    "str_a_entero = int(string)\n",
    "str_a_float = float(string)\n",
    "print(\"Conversiones de string a otros tipos:\")\n",
    "print(string)\n",
    "print(str_a_entero)\n",
    "print(str_a_float)\n",
    "print()"
   ]
  }
 ],
 "metadata": {
  "kernelspec": {
   "display_name": "Python 3",
   "language": "python",
   "name": "python3"
  },
  "language_info": {
   "codemirror_mode": {
    "name": "ipython",
    "version": 3
   },
   "file_extension": ".py",
   "mimetype": "text/x-python",
   "name": "python",
   "nbconvert_exporter": "python",
   "pygments_lexer": "ipython3",
   "version": "3.6.9"
  }
 },
 "nbformat": 4,
 "nbformat_minor": 4
}
