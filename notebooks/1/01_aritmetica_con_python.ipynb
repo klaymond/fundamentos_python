{
 "cells": [
  {
   "cell_type": "markdown",
   "metadata": {},
   "source": [
    "# Aritmética con Python3\n",
    "Python puede usarse en su forma más básica como una calculadora. Vamos a hacer operaciones aritméticas:\n",
    "## Suma"
   ]
  },
  {
   "cell_type": "code",
   "execution_count": 1,
   "metadata": {},
   "outputs": [
    {
     "data": {
      "text/plain": [
       "21"
      ]
     },
     "execution_count": 1,
     "metadata": {},
     "output_type": "execute_result"
    }
   ],
   "source": [
    "3 + 18"
   ]
  },
  {
   "cell_type": "markdown",
   "metadata": {},
   "source": [
    "Mira cómo se puede hacer una suma con tan sólo poner dos números con un símbolo de suma (+) entre ellos.\n",
    "\n",
    "Python ignora los espacios entonces podríamos escribir la misma expresión sin tener espacios entre los números y el símbolo de suma (+):"
   ]
  },
  {
   "cell_type": "code",
   "execution_count": 2,
   "metadata": {},
   "outputs": [
    {
     "data": {
      "text/plain": [
       "22"
      ]
     },
     "execution_count": 2,
     "metadata": {},
     "output_type": "execute_result"
    }
   ],
   "source": [
    "3+19"
   ]
  },
  {
   "cell_type": "markdown",
   "metadata": {},
   "source": [
    "#### IMPORTANTE:\n",
    "Por lo general escribimos las expresiones **con** los espacios ya que nos deja con un código más limpio y legible.\n",
    "\n",
    "## Resta"
   ]
  },
  {
   "cell_type": "code",
   "execution_count": 3,
   "metadata": {},
   "outputs": [
    {
     "data": {
      "text/plain": [
       "-5"
      ]
     },
     "execution_count": 3,
     "metadata": {},
     "output_type": "execute_result"
    }
   ],
   "source": [
    "10 - 15"
   ]
  },
  {
   "cell_type": "markdown",
   "metadata": {},
   "source": [
    "Podemos hacer una resta de la misma manera que las sumas, sólo necesitamos poner los números entre el símbolo aritmético correspondiente.  \n",
    "Jupyter nos da el resultado de la última línea en un bloque de código pero podemos tener varias líneas y ver el resultado de cada una usando la función `print()`. Esta función nos permite desplegar el resultado de lo que esté entre paréntesis:"
   ]
  },
  {
   "cell_type": "code",
   "execution_count": 7,
   "metadata": {},
   "outputs": [
    {
     "name": "stdout",
     "output_type": "stream",
     "text": [
      "-27\n",
      "28\n",
      "537\n"
     ]
    },
    {
     "data": {
      "text/plain": [
       "41"
      ]
     },
     "execution_count": 7,
     "metadata": {},
     "output_type": "execute_result"
    }
   ],
   "source": [
    "print(55 - 82)\n",
    "print(30 - 2)\n",
    "print(549 + 30 - 82 + 40)\n",
    "33 + 8"
   ]
  },
  {
   "cell_type": "markdown",
   "metadata": {},
   "source": [
    "Verifica las respuestas con una calculadora convencional. Nota que se pueden hacer varias sumas y restas en una sola línea.\n",
    "\n",
    "## Multiplicación y división  \n",
    "  \n",
    "Los símbolos para multiplicar y dividir son (\\*) y (/):"
   ]
  },
  {
   "cell_type": "code",
   "execution_count": 8,
   "metadata": {},
   "outputs": [
    {
     "data": {
      "text/plain": [
       "3360"
      ]
     },
     "execution_count": 8,
     "metadata": {},
     "output_type": "execute_result"
    }
   ],
   "source": [
    "42 * 80"
   ]
  },
  {
   "cell_type": "code",
   "execution_count": 9,
   "metadata": {},
   "outputs": [
    {
     "data": {
      "text/plain": [
       "15.0"
      ]
     },
     "execution_count": 9,
     "metadata": {},
     "output_type": "execute_result"
    }
   ],
   "source": [
    "150 / 10"
   ]
  },
  {
   "cell_type": "code",
   "execution_count": 14,
   "metadata": {},
   "outputs": [
    {
     "name": "stdout",
     "output_type": "stream",
     "text": [
      "1361.25\n",
      "0.011079455523899969\n",
      "939.1631448048737\n"
     ]
    },
    {
     "data": {
      "text/plain": [
       "15095.454545454546"
      ]
     },
     "execution_count": 14,
     "metadata": {},
     "output_type": "execute_result"
    }
   ],
   "source": [
    "print(550 / 2 * 99 / 20)\n",
    "print(35 * 40 / 3159 / 40)\n",
    "print(40 * 3.5 * 350 / 80.0003 * 92 / 60)\n",
    "30 * 405 / 99 * 123"
   ]
  },
  {
   "cell_type": "markdown",
   "metadata": {},
   "source": [
    "Verifica las respuestas con una calculadora convencional. Nota que se pueden hacer varias multiplicaciones y divisiones en la misma línea.\n",
    "\n",
    "## Potencias\n",
    "  \n",
    "Podemos elevar un número a la potencia de otro número con el operador (\\*\\*):"
   ]
  },
  {
   "cell_type": "code",
   "execution_count": 12,
   "metadata": {},
   "outputs": [
    {
     "data": {
      "text/plain": [
       "16"
      ]
     },
     "execution_count": 12,
     "metadata": {},
     "output_type": "execute_result"
    }
   ],
   "source": [
    "2 ** 4"
   ]
  },
  {
   "cell_type": "code",
   "execution_count": 15,
   "metadata": {},
   "outputs": [
    {
     "name": "stdout",
     "output_type": "stream",
     "text": [
      "1600\n",
      "97656250000000000\n",
      "22627416997.96952\n"
     ]
    }
   ],
   "source": [
    "print(40 ** 2)\n",
    "print(50 ** 10)\n",
    "print(200 ** 4.5)"
   ]
  },
  {
   "cell_type": "markdown",
   "metadata": {},
   "source": [
    "Verifica las respuestas con una calculadora convencional.\n",
    "\n",
    "## Módulo\n",
    "Un operador que se usa mucho en la programación es el módulo (%). Este te da el residuo de una división. Por ejemplo el módulo de `11 % 4` es 3 porque 4 cabe dos veces en el 11 y tiene un residuo de 3:"
   ]
  },
  {
   "cell_type": "code",
   "execution_count": 16,
   "metadata": {},
   "outputs": [
    {
     "data": {
      "text/plain": [
       "3"
      ]
     },
     "execution_count": 16,
     "metadata": {},
     "output_type": "execute_result"
    }
   ],
   "source": [
    "11 % 4"
   ]
  },
  {
   "cell_type": "code",
   "execution_count": 19,
   "metadata": {},
   "outputs": [
    {
     "name": "stdout",
     "output_type": "stream",
     "text": [
      "0\n",
      "2\n",
      "8\n",
      "0.5\n",
      "0.6545399999999972\n"
     ]
    }
   ],
   "source": [
    "print(45 % 5)\n",
    "print(83 % 3)\n",
    "print(159348 % 10)\n",
    "print(32.5 % 2)\n",
    "print(45.65454 % 3)"
   ]
  },
  {
   "cell_type": "markdown",
   "metadata": {},
   "source": [
    "Verifica las respuestas con una calculadora convencional.\n",
    "  \n",
    "El módulo es especialmente útil para saber si un número es par o no. Si a un número le aplicas la operación módulo con 2 y la respuesta es 0 entonces sabemos que es par. Si el resultado es diferente a 0 entonces es impar o tiene puntos decimales:"
   ]
  },
  {
   "cell_type": "code",
   "execution_count": 20,
   "metadata": {},
   "outputs": [
    {
     "name": "stdout",
     "output_type": "stream",
     "text": [
      "0\n",
      "1\n",
      "0.2000000000007276\n",
      "0\n"
     ]
    }
   ],
   "source": [
    "print(49380 % 2)\n",
    "print(33 % 2)\n",
    "print(8934.2 % 2)\n",
    "print(239481348728 % 2)"
   ]
  },
  {
   "cell_type": "markdown",
   "metadata": {},
   "source": [
    "## Orden de las operaciones\n",
    "  \n",
    "Al igual que en las matemáticas diferentes operaciones tienen diferentes prioridades y no se comportan como se leen. En Python se respetan las reglas del orden de las operaciones como en las matemáticas. Primero las potencias, luego multiplicaciones/divisiones/módulos y por último sumas/restas:"
   ]
  },
  {
   "cell_type": "code",
   "execution_count": 18,
   "metadata": {},
   "outputs": [
    {
     "data": {
      "text/plain": [
       "7"
      ]
     },
     "execution_count": 18,
     "metadata": {},
     "output_type": "execute_result"
    }
   ],
   "source": [
    "3 + 2 * 2"
   ]
  },
  {
   "cell_type": "markdown",
   "metadata": {},
   "source": [
    "Si Python respetara el orden en el que se leen las operaciones primero sumaría `3 + 2` y luego multiplicaría el resultado por 2 `5 * 2`, obtendríamos un resultado final de 10. Como Python primero hace las multiplicaciones, comienza con `2 * 2` y luego al resultado le suma 3 `3 + 4`, así obtenemos el resultado final de 7.  \n",
    "  \n",
    "Más ejemplos:"
   ]
  },
  {
   "cell_type": "code",
   "execution_count": 21,
   "metadata": {},
   "outputs": [
    {
     "name": "stdout",
     "output_type": "stream",
     "text": [
      "30\n",
      "-156386.0\n"
     ]
    }
   ],
   "source": [
    "print(5 + 5 ** 2)\n",
    "print(45 * 80 + 42 / 90 * 30 - 20 ** 4)"
   ]
  },
  {
   "cell_type": "markdown",
   "metadata": {},
   "source": [
    "Verifica las respuestas con una calculadora convencional.\n",
    "\n",
    "## Paréntesis\n",
    "\n",
    "Los paréntesis son carácteres especiales en Python. Los podemos usar para definir los argumentos que le entran a una función como lo haccemos con `print()` pero también para definir el orden en que queremos que Python haga operaciones. Usando el ejemplo anterior podemos modificarlo a `(3 + 2) * 2`:"
   ]
  },
  {
   "cell_type": "code",
   "execution_count": 3,
   "metadata": {},
   "outputs": [
    {
     "data": {
      "text/plain": [
       "20"
      ]
     },
     "execution_count": 3,
     "metadata": {},
     "output_type": "execute_result"
    }
   ],
   "source": [
    "(3 + 7) * 2"
   ]
  },
  {
   "cell_type": "markdown",
   "metadata": {},
   "source": [
    "En este ejemplo primero se hace la suma `(3 + 2)` y luego se hace la multiplicación `5 * 2`.\n",
    "  \n",
    "Cada vez que abrimos un paréntesis debemos cerrarlo si no corremos el peligro de que Python nos lanze un error:"
   ]
  },
  {
   "cell_type": "code",
   "execution_count": 23,
   "metadata": {},
   "outputs": [
    {
     "ename": "SyntaxError",
     "evalue": "unexpected EOF while parsing (<ipython-input-23-be632f16d627>, line 1)",
     "output_type": "error",
     "traceback": [
      "\u001b[0;36m  File \u001b[0;32m\"<ipython-input-23-be632f16d627>\"\u001b[0;36m, line \u001b[0;32m1\u001b[0m\n\u001b[0;31m    (3 + 2 * 2\u001b[0m\n\u001b[0m              ^\u001b[0m\n\u001b[0;31mSyntaxError\u001b[0m\u001b[0;31m:\u001b[0m unexpected EOF while parsing\n"
     ]
    }
   ],
   "source": [
    "(3 + 2 * 2"
   ]
  },
  {
   "cell_type": "markdown",
   "metadata": {},
   "source": [
    "Nota que Python no está lanzando un SyntaxError. En la programación la sintáxis es muy importante. Un pequeño error puede hacer que nuestro código no funcione.\n",
    "  \n",
    "Más ejemplos:"
   ]
  },
  {
   "cell_type": "code",
   "execution_count": 25,
   "metadata": {},
   "outputs": [
    {
     "name": "stdout",
     "output_type": "stream",
     "text": [
      "11631519648\n",
      "170.0\n"
     ]
    }
   ],
   "source": [
    "print((40 + 2) ** 5 * 89)\n",
    "print((34 / 2) * (9 + 1))"
   ]
  },
  {
   "cell_type": "markdown",
   "metadata": {},
   "source": [
    "Verifica la respuestas con una calculadora convencional"
   ]
  }
 ],
 "metadata": {
  "kernelspec": {
   "display_name": "Python 3",
   "language": "python",
   "name": "python3"
  },
  "language_info": {
   "codemirror_mode": {
    "name": "ipython",
    "version": 3
   },
   "file_extension": ".py",
   "mimetype": "text/x-python",
   "name": "python",
   "nbconvert_exporter": "python",
   "pygments_lexer": "ipython3",
   "version": "3.6.9"
  }
 },
 "nbformat": 4,
 "nbformat_minor": 4
}
