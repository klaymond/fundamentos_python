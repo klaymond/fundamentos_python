{
 "cells": [
  {
   "cell_type": "markdown",
   "metadata": {},
   "source": [
    "# Variables y strings\n",
    "En las últimas dos lecciones aprendimos a hacer operaciones con Python. Seguramente no vinieron a esta clase a aprender a usar una calculadora. Entonces veamos qué son las variables.\n",
    "\n",
    "## Variables\n",
    "Las variables son etiquetas a las que les podemos asignar valores. Esas variables las podemos manipular como queramos para poder haccer algoritmos.  \n",
    "Antes de trabajar con variables vamos a ver cómo Python procesa las palabras. En la primera lección vimos que podemos usar la función `print()` para visualizar números y booleanos. Vamos a intentar visualizar un enunciado:"
   ]
  },
  {
   "cell_type": "code",
   "execution_count": 1,
   "metadata": {},
   "outputs": [
    {
     "ename": "SyntaxError",
     "evalue": "invalid syntax (<ipython-input-1-9663b3435181>, line 1)",
     "output_type": "error",
     "traceback": [
      "\u001b[0;36m  File \u001b[0;32m\"<ipython-input-1-9663b3435181>\"\u001b[0;36m, line \u001b[0;32m1\u001b[0m\n\u001b[0;31m    print(Hola me llamo Uri)\u001b[0m\n\u001b[0m                ^\u001b[0m\n\u001b[0;31mSyntaxError\u001b[0m\u001b[0;31m:\u001b[0m invalid syntax\n"
     ]
    }
   ],
   "source": [
    "print(Hola me llamo Uri)"
   ]
  },
  {
   "cell_type": "markdown",
   "metadata": {},
   "source": [
    "Como pueden ver nos da un error de sintaxis. Esto se debe a que las palabras en Python son variables.  \n",
    "\n",
    "## Strings\n",
    "Las strings (en español se dice \"cadena\" pero la mayoría de los programadores se quedan con el anglicismo \"string\" al hablar de código) son caracteres, palabras o texto que Python puede entender como literal. Las strings pueden estar rodeadas de comillas dobles `\"\"` o de comillas sencillas `''`. Podemos poner el texto que queramos en un string y Python va a leer el texto como tal. Por ejemplo:"
   ]
  },
  {
   "cell_type": "code",
   "execution_count": 1,
   "metadata": {},
   "outputs": [
    {
     "name": "stdout",
     "output_type": "stream",
     "text": [
      "Hola, me llamo Uri. Esto es una string.\n",
      "Es\"to\" también es una string\n",
      "Puedo poner el texto que sea en una string y Python me va a entender\n"
     ]
    }
   ],
   "source": [
    "print(\"Hola, me llamo Uri. Esto es una string.\")\n",
    "print('Es\"to\" también es una string')\n",
    "print(\"Puedo poner el texto que sea en una string y Python me va a entender\")"
   ]
  },
  {
   "cell_type": "markdown",
   "metadata": {},
   "source": [
    "## Cómo usar variables\n",
    "Vamos a regresar al tema de las variables. Las variables pueden ser cualquier texto que siga las siguientes reglas:\n",
    "1. Las variables deben empezar con una letra o un guion bajo\n",
    "2. Las variables no pueden contener espacios o acentos\n",
    "3. Las variables sólo pueden contener caracteres alfanúmericos (a-z, A-Z, 0-9) o guiones bajos (\\_).\n",
    "4. Las variables distingue entre mayúsculass y minúsculas (esta_es_una_variable != Esta_es_una_variable).  \n",
    "\n",
    "Veamos cómo funciona una variable. Primero hay que darle un valor:"
   ]
  },
  {
   "cell_type": "code",
   "execution_count": 3,
   "metadata": {},
   "outputs": [],
   "source": [
    "mi_variable = 3"
   ]
  },
  {
   "cell_type": "code",
   "execution_count": null,
   "metadata": {},
   "outputs": [],
   "source": []
  },
  {
   "cell_type": "markdown",
   "metadata": {},
   "source": [
    "Primero indicamos el nombre de la variable y luego le asignamos el valor `3`. Nota que sólo usamos un símbolo de igual que significa asignar `=` el cual es muy diferente a tener dos seguidos que significa igualdad `==`.  \n",
    "Si imprimimos esta variable nos debe de dar el valor que le asignamos:"
   ]
  },
  {
   "cell_type": "code",
   "execution_count": 4,
   "metadata": {},
   "outputs": [
    {
     "name": "stdout",
     "output_type": "stream",
     "text": [
      "3\n"
     ]
    }
   ],
   "source": [
    "print(mi_variable)"
   ]
  },
  {
   "cell_type": "markdown",
   "metadata": {},
   "source": [
    "Vamos a crear otra variable:"
   ]
  },
  {
   "cell_type": "code",
   "execution_count": 7,
   "metadata": {},
   "outputs": [],
   "source": [
    "mi_segunda_variable = 3"
   ]
  },
  {
   "cell_type": "markdown",
   "metadata": {},
   "source": [
    "Ahora podemos manipular sus valores usando sólo el nombre de la variable. Podemos sumar, restar, dividir, comparar, etc."
   ]
  },
  {
   "cell_type": "code",
   "execution_count": 8,
   "metadata": {},
   "outputs": [
    {
     "name": "stdout",
     "output_type": "stream",
     "text": [
      "6\n",
      "0\n",
      "True\n",
      "False\n",
      "False\n"
     ]
    }
   ],
   "source": [
    "print(mi_variable + mi_segunda_variable)\n",
    "print(mi_variable - mi_segunda_variable)\n",
    "print(mi_segunda_variable == mi_variable)\n",
    "print(mi_segunda_variable < mi_variable)\n",
    "print(mi_variable != mi_segunda_variable)"
   ]
  },
  {
   "cell_type": "markdown",
   "metadata": {},
   "source": [
    "Las variables no se llamarían así si su valor no varia entonces podemos cambiar su valor cuantas veces queramos y podemos crear la cantidad de variables que queramos. También podemos cambiar el valor de una variable a base del valor de otra:"
   ]
  },
  {
   "cell_type": "code",
   "execution_count": 9,
   "metadata": {},
   "outputs": [
    {
     "name": "stdout",
     "output_type": "stream",
     "text": [
      "40\n",
      "6\n",
      "8\n",
      "6\n"
     ]
    }
   ],
   "source": [
    "mi_variable = 40\n",
    "print(mi_variable)\n",
    "mi_variable = 3 + mi_segunda_variable\n",
    "print(mi_variable)\n",
    "mi_segunda_variable = 8\n",
    "print(mi_segunda_variable)\n",
    "print(mi_variable)"
   ]
  },
  {
   "cell_type": "markdown",
   "metadata": {},
   "source": [
    "También podemos guardar una string en una variable. Pon tu nombre entre las comillas y mira cómo se imprime cuando corres la celda:"
   ]
  },
  {
   "cell_type": "code",
   "execution_count": 5,
   "metadata": {},
   "outputs": [
    {
     "name": "stdout",
     "output_type": "stream",
     "text": [
      "Uri\n",
      "Urimucho gusto.\n"
     ]
    }
   ],
   "source": [
    "a = \"Uri\"\n",
    "print(a)\n",
    "presentacion = \"mucho gusto.\"\n",
    "print(a + presentacion)"
   ]
  },
  {
   "cell_type": "markdown",
   "metadata": {},
   "source": [
    "Por último podemos editar el valor de una variable basado en su valor anterior:"
   ]
  },
  {
   "cell_type": "code",
   "execution_count": 10,
   "metadata": {},
   "outputs": [
    {
     "name": "stdout",
     "output_type": "stream",
     "text": [
      "El valor original de mi variable es:\n",
      "5\n",
      "\n",
      "El valor nuevo de mi variable es el valor anterior más 3:\n",
      "8\n"
     ]
    }
   ],
   "source": [
    "mi_var = 5\n",
    "print('El valor original de mi variable es:')\n",
    "print(mi_var)\n",
    "mi_var = mi_var + 3\n",
    "print()\n",
    "print('El valor nuevo de mi variable es el valor anterior más 3:')\n",
    "print(mi_var)"
   ]
  },
  {
   "cell_type": "markdown",
   "metadata": {},
   "source": [
    "Podemos saltarnos la parte de poner el nombre de la variable en la declaración si usamos el caracter especial `+=`:"
   ]
  },
  {
   "cell_type": "code",
   "execution_count": 17,
   "metadata": {},
   "outputs": [
    {
     "name": "stdout",
     "output_type": "stream",
     "text": [
      "El valor original de mi variable es:\n",
      "5\n",
      "\n",
      "El valor nuevo de mi variable es el valor anterior más 3:\n",
      "8\n",
      "\n",
      "El valor nuevo de mi variable es el valor anterior menos 4:\n",
      "4\n",
      "\n",
      "El valor nuevo de mi variable es el valor anterior multiplicado por 9:\n",
      "36\n"
     ]
    }
   ],
   "source": [
    "mi_var = 5\n",
    "print('El valor original de mi variable es:')\n",
    "print(mi_var)\n",
    "mi_var += 3\n",
    "print()\n",
    "print('El valor nuevo de mi variable es el valor anterior más 3:')\n",
    "print(mi_var)\n",
    "mi_var -= 4\n",
    "print()\n",
    "print('El valor nuevo de mi variable es el valor anterior menos 4:')\n",
    "print(mi_var)\n",
    "mi_var *= 9\n",
    "print()\n",
    "print('El valor nuevo de mi variable es el valor anterior multiplicado por 9:')\n",
    "print(mi_var)"
   ]
  }
 ],
 "metadata": {
  "kernelspec": {
   "display_name": "Python 3",
   "language": "python",
   "name": "python3"
  },
  "language_info": {
   "codemirror_mode": {
    "name": "ipython",
    "version": 3
   },
   "file_extension": ".py",
   "mimetype": "text/x-python",
   "name": "python",
   "nbconvert_exporter": "python",
   "pygments_lexer": "ipython3",
   "version": "3.6.9"
  }
 },
 "nbformat": 4,
 "nbformat_minor": 4
}
