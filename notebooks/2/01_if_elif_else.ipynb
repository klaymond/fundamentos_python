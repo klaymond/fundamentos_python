{
 "cells": [
  {
   "cell_type": "markdown",
   "metadata": {},
   "source": [
    "# if/elif/else\n",
    "## if\n",
    "Vamos a agregarle complejidad a nuestros algoritmos. Usando los `if` (si) podemos hacer decisiones dentro de nuestros programas. La estructura es la siguiente:\n",
    "```python\n",
    "if condicion:\n",
    "    codigo si se cumple la condicion\n",
    "    mas codigo\n",
    "    aqui tambien\n",
    "codigo que se corre si se cumple o no la condicion\n",
    "```\n",
    "Primero vamos a ver un ejemplo:"
   ]
  },
  {
   "cell_type": "code",
   "execution_count": null,
   "metadata": {},
   "outputs": [],
   "source": [
    "var1 = 45\n",
    "var2 = 33\n",
    "\n",
    "if var1 > var2:\n",
    "    print('Se cumple la condición')\n",
    "    print(\"Todo el código indentado se corre si se cumple la condición\")\n",
    "    print()\n",
    "print(\"Este código se corre se cumpla o no la condición\")\n",
    "print(\"Este código también\")"
   ]
  },
  {
   "cell_type": "markdown",
   "metadata": {},
   "source": [
    "Primero escribimos la palabra clave `if`, luego una condición, dos puntos, y todo el código indentado se corre si y sólo si se cumple la condición.  \n",
    "Cambia los valores de var1 y var2 para cumplir un caso en el que el resultado de la condición sea `False`. Ahora cambia la condición y ve cómo cambian los resultados.\n",
    "## else\n",
    "El `else` nos permite correr código si y sólo si no se cumple la condición del `if`. No puedes tener un `else` si no hay un `if` que lo acompañe. La estructura es la siguiente:\n",
    "```python\n",
    "if condicion:\n",
    "    se corre este codigo\n",
    "    mas codigo\n",
    "    aqui tambien\n",
    "else:\n",
    "    este codigo se corre si no se cumple la condicion\n",
    "    este tambien\n",
    "este codigo se corre siempre\n",
    "sin importar si se cumple o no la condicion\n",
    "```\n",
    "Veamos un ejemplo:"
   ]
  },
  {
   "cell_type": "code",
   "execution_count": null,
   "metadata": {},
   "outputs": [],
   "source": [
    "saludo_esperado = \"Hola, mucho gusto\"\n",
    "saludo_del_usuario = \"Hola, mundo\"\n",
    "\n",
    "if saludo_esperado == saludo_del_usuario:\n",
    "    print(\"Hola, me llamo Siri.\")\n",
    "    print()\n",
    "else:\n",
    "    print(\"No reconozco ese saludo.\")\n",
    "    print(\"Intenta de nuevo.\")\n",
    "    print()\n",
    "\n",
    "print(\"Este codigo se corre sin importar si se cumple la condicion o no.\")\n",
    "print(\"Compruébalo :)\")"
   ]
  },
  {
   "cell_type": "markdown",
   "metadata": {},
   "source": [
    "El `else` no tiene una condición ya que por su naturaleza su condición es el opuesto de la del `if`.  \n",
    "Cambia los valores de los saludos para que el saludo del usuario sea igual al esperado. Cambia la condición y las variables para ver diferentes casos.\n",
    "## elif\n",
    "Por último tenemos `elif`. Este nos permite tener más de una condición dentro de nuestro `if`. La estructura es la siguiente:\n",
    "```python\n",
    "if condicion:\n",
    "    se corre este codigo\n",
    "    este tambien\n",
    "elif condicion2:\n",
    "    esto se corre si se cumple la condicion2\n",
    "    esto tambien\n",
    "elif condicion3:\n",
    "    esto se corre si se cumple la condicion3\n",
    "    esto tambien\n",
    "else:\n",
    "    esto se corre si no se cumplen ninguna de las condiciones\n",
    "    esto tambien\n",
    "esto se corre sin importar si se cumplen o no las condiciones\n",
    "```\n",
    "Podemos tener la cantidad de elif que queramos.  \n",
    "Esto nos deja con 3 reglas:\n",
    "1. Si quieres tener codigo condicional SIEMPRE tienes que tener un `if`\n",
    "2. El `else` es opcional pero sólo puede haber uno por cada `if`\n",
    "3. Podemos tener la cantidad de `elif` que queramos  \n",
    "\n",
    "Vamos a ver un ejemplo:"
   ]
  },
  {
   "cell_type": "code",
   "execution_count": null,
   "metadata": {},
   "outputs": [],
   "source": [
    "var1 = 12\n",
    "var2 = 20\n",
    "var3 = 30\n",
    "\n",
    "if var1 > var2 and var3 > var2:\n",
    "    print(\"Se cumple la primera condición\")\n",
    "    print()\n",
    "elif var1 < var2 and var3 > var2:\n",
    "    print(\"Se cumple la segunda condición\")\n",
    "    print(\"Este código se corre cuando se cumple la segunda condición\")\n",
    "    print()\n",
    "elif var1 < var2 and var3 < var2:\n",
    "    print(\"Se cumple la tercera condición\")\n",
    "    print(\"Este código se corre cuando se cumple la tercera condición\")\n",
    "    print()\n",
    "else:\n",
    "    print(\"Este código se corre si no se cumple ninguna de las condiciones\")\n",
    "print(\"Este código se corre aunque sin importar si se cumplen o no las condiciones\")"
   ]
  },
  {
   "cell_type": "markdown",
   "metadata": {},
   "source": [
    "Cambia los valores de las variables para que se cumplan todos los casos incluyendo el `else`. \n",
    "## if anidado\n",
    "A veces podemos tener múltiples condiciones que sólo deben de correr si se cumplen otras condiciones. ¡Aquí se pone bueno!  \n",
    "La estructura es la siguiente:\n",
    "```python\n",
    "if condicion1:\n",
    "    aqui puedo correr codigo\n",
    "    if condicion2:\n",
    "        este codigo solo se corre si se cumplen las condiciones 1 y 2\n",
    "    elif condicion3:\n",
    "        este codigo solo se corre si se cumplen las condiciones 1 y 3\n",
    "    else:\n",
    "        este codigo se corre si se cumple la condicion 1 y no se cumplen las condiciones 2 y 3\n",
    "```\n",
    "Veamos un ejemplo:"
   ]
  },
  {
   "cell_type": "code",
   "execution_count": null,
   "metadata": {},
   "outputs": [],
   "source": [
    "var1 = 40\n",
    "var2 = 30\n",
    "var3 = 20\n",
    "\n",
    "if var1 > var2:\n",
    "    print(\"Se cumplió la primera condición\")\n",
    "    print()\n",
    "    if var2 > var3:\n",
    "        print(\"Se cumplió la segunda condición\")\n",
    "        print()\n",
    "    elif var2 < var3:\n",
    "        print(\"Se cumplió la tercera condición\")\n",
    "        print()\n",
    "    else:\n",
    "        print(\"Sólo se cumplió la primera condición\")"
   ]
  },
  {
   "cell_type": "markdown",
   "metadata": {},
   "source": [
    "Puedes anidar la cantidad de `if`s que quieras pero siempre hay un mejor diseño de código que tener 40 `if`s anidados.\n",
    "## Ejercicio: Candy Crush\n",
    "En la celda de código de abajo haz un algoritmo que tenga una variable de tipo entero `estado` con valor `0`, una variable de tipo entero `puntos`, una variable de tipo entero `puntos_para_ganar`, y una variable de tipo booleano `condicion_para_ganar`. El algoritmo debe hacer lo siguiente:\n",
    "1. Si los puntos son mayores a los puntos para ganar y la condicion para ganar es verdadera entonces imprime \"ganaste\". También cambia el estado a 1\\.\n",
    "2. Si los puntos son mayores a los puntos para ganar pero  la condicion para ganar es falsa entonces imprime \"Casi ganas, a la siguiente completa la condicion\". También cambia el estado a 2.\n",
    "3. Si los puntos son menores a los puntos para ganar pero la condicion para ganar es verdadera entonces imprime \"Casi ganas, a la siguiente consigue más puntos\". También cambia el estado a 3.\n",
    "4. Si no se cumple ninguna de las condiciones entonces imprime \"No ganaste :( intenta de nuevo\". También cambia el estado a 4.\n",
    "5. Sin importar si se cumple alguna de las condiciones imprime el valor del contador."
   ]
  },
  {
   "cell_type": "code",
   "execution_count": null,
   "metadata": {},
   "outputs": [],
   "source": []
  },
  {
   "cell_type": "markdown",
   "metadata": {},
   "source": [
    "## Ejercicio: Calificaciones\n",
    "En la celda de código de abajo haz un algoritmo que tenga una variable de tipo entero que indique la calificacion de español, una variale de tipo booleano que indique si presentó el examen final de español, una de tipo entero que indique la calificación de química, una de tipo booleano que indique si presentó examen final de química, y dos variables de tipo entero que indiquen la calificación de los exámenes finales. El algoritmo debe indicar qué materias pasó el alumno y si se puede graduar:\n",
    "1. El alumno debe tener una calificación mayor a 60 en la clase o mayor a 90 en el examen final para pasar una materia.\n",
    "2. El alumno pasa la materia si y sólo si presenta el examen final para esa materia.\n",
    "3. El alumno debe tener un promedio mayor a 70 para graduarse.\n",
    "4. El alumno debe pasar ambas materias para graduarse."
   ]
  },
  {
   "cell_type": "code",
   "execution_count": null,
   "metadata": {},
   "outputs": [],
   "source": []
  },
  {
   "cell_type": "markdown",
   "metadata": {},
   "source": [
    "Cuando acabes analiza tu código. ¿Hay una mejor manera de estructurar el algoritmo? ¿Hay `if`s que te puedes ahorrar con condiciones compuestas? ¿Hay condiciones que podrías poner antes o después para no correr código inecesariamente?  \n",
    "Puedes ver la respuesta a la última pregunta corriendo la celda de abajo:  "
   ]
  },
  {
   "cell_type": "code",
   "execution_count": null,
   "metadata": {},
   "outputs": [],
   "source": [
    "with open('respuesta_calificaciones_if_elif_else.txt') as f:\n",
    "    print(f.readline())"
   ]
  }
 ],
 "metadata": {
  "kernelspec": {
   "display_name": "Python 3",
   "language": "python",
   "name": "python3"
  },
  "language_info": {
   "codemirror_mode": {
    "name": "ipython",
    "version": 3
   },
   "file_extension": ".py",
   "mimetype": "text/x-python",
   "name": "python",
   "nbconvert_exporter": "python",
   "pygments_lexer": "ipython3",
   "version": "3.6.9"
  }
 },
 "nbformat": 4,
 "nbformat_minor": 4
}
