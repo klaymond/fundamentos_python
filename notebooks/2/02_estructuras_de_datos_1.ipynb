{
 "cells": [
  {
   "cell_type": "markdown",
   "metadata": {},
   "source": [
    "# Estructuras de datos 1: listas, tuplas y strings\n",
    "No podemos programar efectivamente sin tener estructuras de datos. Una estructura de datos es una forma de juntar información de una manera organizada para que se pueda acceder fácilmente a ella. La estructura básica de Python es la lista (`list`).\n",
    "## listas\n",
    "Las listas son una **secuencia** de datos. Sus propiedades son:\n",
    "1. Los datos dentro de una lista están ordenados\n",
    "2. Podemos accesar un dato dentro de la lista por su índice\n",
    "3. El primer índice es el `0`\n",
    "4. El principio y final de una lista se indica con los corchetes cuadrados: `[]`\n",
    "5. Cada dato en una lista se separa por una coma: `,`  \n",
    "\n",
    "Veamos unos ejemplos:"
   ]
  },
  {
   "cell_type": "code",
   "execution_count": null,
   "metadata": {},
   "outputs": [],
   "source": [
    "[1, 2, 3, 4, 5]\n",
    "podemos_guardar_una_lista_en_una_variable = [1, 2, 3, 4, 5]\n",
    "\n",
    "esta_es_una_lista_de_enteros = [45, 87, 10, 30 , 92, 1, -40, 30, -52, -1]\n",
    "\n",
    "esta_es_de_floats = [10.2, 40.55, 1.0, -99.394934, 108.7, -40.0]\n",
    "\n",
    "esta_es_de_strings = [\"Hola\", \"Esto es un string\", 'Esto también', \"Son muy chidas las listas\"]\n",
    "\n",
    "esta_es_de_booleanos = [True, False, False, True, True, True]\n",
    "\n",
    "esta_es_mixta = [89, \"Hola, mundo\", 34, 40.5, 43.44, 89, True, True, -1002.44, False]\n",
    "\n",
    "print(\"Así se ve una lista cuando la imprimimos:\")\n",
    "print(esta_es_mixta)"
   ]
  },
  {
   "cell_type": "markdown",
   "metadata": {},
   "source": [
    "Una vez que declaramos una lista podemos accesar los valores con la notación `lista[i]` (donde \"lista\" es el nombre de la variable e `i` es el índice):"
   ]
  },
  {
   "cell_type": "code",
   "execution_count": null,
   "metadata": {},
   "outputs": [],
   "source": [
    "mi_lista = [33, 94, 55, 98, 20, 2, 35]\n",
    "primer_objeto = mi_lista[0]\n",
    "segundo_objeto = mi_lista[1]\n",
    "cuarto_objeto = mi_lista[3]\n",
    "\n",
    "print(\"Primer objeto:\")\n",
    "print(primer_objeto)\n",
    "print()\n",
    "print(\"Segundo objeto:\")\n",
    "print(segundo_objeto)\n",
    "print()\n",
    "print(\"Cuarto objeto:\")\n",
    "print(cuarto_objeto)\n",
    "print()"
   ]
  },
  {
   "cell_type": "markdown",
   "metadata": {},
   "source": [
    "Si intentamos accesar un índice mayor o igual a la cantidad de objetos dentro de la lista, Python nos lanza un error:"
   ]
  },
  {
   "cell_type": "code",
   "execution_count": null,
   "metadata": {},
   "outputs": [],
   "source": [
    "lista = [3, 2, 6, 9]\n",
    "\n",
    "print(lista[4])"
   ]
  },
  {
   "cell_type": "markdown",
   "metadata": {},
   "source": [
    "Podemos modificar el valor de un objeto de la lista al accesar al índice de ese objeto y asígnandole un nuevo valor:"
   ]
  },
  {
   "cell_type": "code",
   "execution_count": null,
   "metadata": {},
   "outputs": [],
   "source": [
    "una_lista_muy_lista = [45, 62, 33, 41]\n",
    "\n",
    "print(\"Lista antes de mutarla:\")\n",
    "print(una_lista_muy_lista)\n",
    "print()\n",
    "\n",
    "una_lista_muy_lista[1] = 2020\n",
    "una_lista_muy_lista[3] = 1967\n",
    "\n",
    "print(\"Lista después de mutarla:\")\n",
    "print(una_lista_muy_lista)\n",
    "print()"
   ]
  },
  {
   "cell_type": "markdown",
   "metadata": {},
   "source": [
    "Si accesamos un índice negativo podemos ver los datos en reversa:"
   ]
  },
  {
   "cell_type": "code",
   "execution_count": null,
   "metadata": {},
   "outputs": [],
   "source": [
    "otra_lista = [\"Este es el primer objeto\", \"Este tiene un índice 1\", \"Este va después\", \"Este es el último objeto\"]\n",
    "\n",
    "print(otra_lista[-1])\n",
    "print(otra_lista[-2])"
   ]
  },
  {
   "cell_type": "markdown",
   "metadata": {},
   "source": [
    "Con el **método** `list.append()` podemos agregar objetos a una lista:"
   ]
  },
  {
   "cell_type": "code",
   "execution_count": null,
   "metadata": {},
   "outputs": [],
   "source": [
    "otra_mas = [3, 55, 6, 33]\n",
    "\n",
    "print(\"Lista antes de append:\")\n",
    "print(otra_mas)\n",
    "print()\n",
    "\n",
    "otra_mas.append(40)\n",
    "otra_mas.append(70)\n",
    "\n",
    "print(\"Lista después de append:\")\n",
    "print(otra_mas)\n",
    "print()"
   ]
  },
  {
   "cell_type": "markdown",
   "metadata": {},
   "source": [
    "### Mini ejercicio: La mejor herramienta de programación son los motores de búsqueda\n",
    "Busca cómo puedes quitar objetos de una lista de Python usando Google, DuckDuckGo, o tu motor de búsqueda favorito. Crea una lista en la celda de código de abajo y quítale el primer y último objeto:"
   ]
  },
  {
   "cell_type": "code",
   "execution_count": null,
   "metadata": {},
   "outputs": [],
   "source": []
  },
  {
   "cell_type": "markdown",
   "metadata": {},
   "source": [
    "## tuplas\n",
    "Las tuplas (`tuple`) se comportan de la misma manera que las listas pero son **inmutables**. Esto significa que no podemos editar los valores de la tupla una vez que la declaramos:"
   ]
  },
  {
   "cell_type": "code",
   "execution_count": null,
   "metadata": {},
   "outputs": [],
   "source": [
    "(1, 2, 3, 4, 5)\n",
    "podemos_guardar_una_tupla_en_una_variable = (1, 2, 3, 4, 5)\n",
    "\n",
    "esta_es_una_tupla_de_enteros = (45, 87, 10, 30 , 92, 1, -40, 30, -52, -1)\n",
    "\n",
    "esta_es_de_floats = (10.2, 40.55, 1.0, -99.394934, 108.7, -40.0)\n",
    "\n",
    "esta_es_de_strings = (\"Hola\", \"Esto es un string\", 'Esto también', \"Son muy chidas las listas\")\n",
    "\n",
    "esta_es_de_booleanos = (True, False, False, True, True, True)\n",
    "\n",
    "esta_es_mixta = (89, \"Hola, mundo\", 34, 40.5, 43.44, 89, True, True, -1002.44, False)\n",
    "\n",
    "print(\"Así se ve una tupla cuando la imprimimos:\")\n",
    "print(esta_es_mixta)\n",
    "print()\n",
    "\n",
    "print(\"Así podemos accesar un objeto dentro de la tupla:\")\n",
    "print(esta_es_mixta[1])"
   ]
  },
  {
   "cell_type": "markdown",
   "metadata": {},
   "source": [
    "Si intentamos editar un objeto dentro de una tupla Python nos lanza un error:"
   ]
  },
  {
   "cell_type": "code",
   "execution_count": null,
   "metadata": {},
   "outputs": [],
   "source": [
    "mi_tupla = (45, 55.2, 80, 99)\n",
    "\n",
    "mi_tupla[3] = 40"
   ]
  },
  {
   "cell_type": "markdown",
   "metadata": {},
   "source": []
  }
 ],
 "metadata": {
  "kernelspec": {
   "display_name": "Python 3",
   "language": "python",
   "name": "python3"
  },
  "language_info": {
   "codemirror_mode": {
    "name": "ipython",
    "version": 3
   },
   "file_extension": ".py",
   "mimetype": "text/x-python",
   "name": "python",
   "nbconvert_exporter": "python",
   "pygments_lexer": "ipython3",
   "version": "3.6.9"
  }
 },
 "nbformat": 4,
 "nbformat_minor": 4
}
