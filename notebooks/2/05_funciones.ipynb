{
 "cells": [
  {
   "cell_type": "markdown",
   "metadata": {},
   "source": [
    "# Funciones\n",
    "Las funciones en Python nos permiten definir código que podemos invocar después. Esto nos ayuda a tener código más limpio ya que contribuye al primer mandamiento de nuestra religión como programadorxs (DRY).  \n",
    "La estructura es la siguiente:  \n",
    "```python\n",
    "def mi_funcion(arg1, arg2):\n",
    "    este es el coddigo\n",
    "    podemos usar las variables arg1 y arg2\n",
    "    return \"El retrun es el resultado de la funcion\n",
    "```  \n",
    "Cada función empieza con la palabra clave `def` (del inglés define), luego el nombre de la función (se rige con las mismas reglas que los nombres de las variables), entre paréntesis tenemos los argumentos, dos puntos, el código indentado es el que se va a correr cada vez que invoquemos la función y `return` es la palabra clave que nos indica el valor que va a regresar la función.  \n",
    "Vamos a ver un ejemplo:"
   ]
  },
  {
   "cell_type": "code",
   "execution_count": 2,
   "metadata": {},
   "outputs": [
    {
     "name": "stdout",
     "output_type": "stream",
     "text": [
      "5\n",
      "7\n",
      "2\n",
      "7\n"
     ]
    }
   ],
   "source": [
    "def valor_absoluto(numero):\n",
    "    if numero < 0:\n",
    "        numero = -numero\n",
    "    return numero\n",
    "\n",
    "numero = 5\n",
    "otro_numero = -7\n",
    "\n",
    "resultado = valor_absoluto(numero)\n",
    "otro_resultado = valor_absoluto(otro_numero)\n",
    "\n",
    "print(resultado)\n",
    "print(otro_resultado)\n",
    "print(valor_absoluto(-2))\n",
    "print(valor_absoluto(otro_numero))"
   ]
  },
  {
   "cell_type": "markdown",
   "metadata": {},
   "source": [
    "Nota cómo el valor retornado lo podemos guardar en una variable o lo podemos usar directamente. También nota el **alcance** de la variable `numero`.  \n",
    "Veamos más ejemplos:"
   ]
  },
  {
   "cell_type": "code",
   "execution_count": 3,
   "metadata": {},
   "outputs": [
    {
     "name": "stdout",
     "output_type": "stream",
     "text": [
      "Hola, Uri\n",
      "Hola, Antonio\n",
      "5\n",
      "None\n"
     ]
    }
   ],
   "source": [
    "def length(lista):\n",
    "    contador = 0\n",
    "    for objeto in lista:\n",
    "        contador += 1\n",
    "    return contador\n",
    "\n",
    "def saludo(nombre):\n",
    "    print(\"Hola, \" + nombre)\n",
    "    \n",
    "lista = [3, 4, 2, 8, 0]\n",
    "longitud = length(lista)\n",
    "\n",
    "mi_saludo = saludo(\"Uri\")\n",
    "saludo(\"Antonio\")\n",
    "\n",
    "print(longitud)\n",
    "print(mi_saludo)"
   ]
  },
  {
   "cell_type": "markdown",
   "metadata": {},
   "source": [
    "## Múltiples argumentos\n",
    "Podemos tener más de un argumento. Estos argumentos se separan por comas (,).  \n",
    "Veamos un ejemplo:"
   ]
  },
  {
   "cell_type": "code",
   "execution_count": 6,
   "metadata": {},
   "outputs": [
    {
     "name": "stdout",
     "output_type": "stream",
     "text": [
      "80\n"
     ]
    }
   ],
   "source": [
    "def suma_y_multiplicacion(x, y, z):\n",
    "    \"\"\"\n",
    "    Esta función suma x con y, multiplica el resultado con z y regresa ese último resultado\n",
    "    \"\"\"\n",
    "    resultado_suma = x + y\n",
    "    resultado_multiplicacion = resultado_suma * z\n",
    "    return resultado_multiplicacion\n",
    "\n",
    "resultado = suma_y_multiplicacion(3, 5, 10)\n",
    "print(resultado)"
   ]
  },
  {
   "cell_type": "markdown",
   "metadata": {},
   "source": [
    "También podemos darle un valor default si creemos que la mayoría de las veces se va a usar ese valor. Los argumentos con valores default **siempre** se deben de declarar al final:"
   ]
  },
  {
   "cell_type": "code",
   "execution_count": 7,
   "metadata": {},
   "outputs": [
    {
     "name": "stdout",
     "output_type": "stream",
     "text": [
      "Tu calificación para el semestre 6 es: 73.0\n",
      "Tu calificación para el semestre 9 es: 84.0\n"
     ]
    }
   ],
   "source": [
    "def califica(tareas, examen_parcial, examen_final, semestre=6):\n",
    "    calificacion = tareas * 0.1 + examen_parcial * 0.4 + examen_final * 0.5\n",
    "    return \"Tu calificación para el semestre \" + str(semestre) + \" es: \" + str(calificacion)\n",
    "\n",
    "calificacion_uri = califica(50, 70, 80)\n",
    "calificacion_monty = califica(30, 90, 90, 9)\n",
    "\n",
    "print(calificacion_uri)\n",
    "print(calificacion_monty)"
   ]
  }
 ],
 "metadata": {
  "kernelspec": {
   "display_name": "Python 3",
   "language": "python",
   "name": "python3"
  },
  "language_info": {
   "codemirror_mode": {
    "name": "ipython",
    "version": 3
   },
   "file_extension": ".py",
   "mimetype": "text/x-python",
   "name": "python",
   "nbconvert_exporter": "python",
   "pygments_lexer": "ipython3",
   "version": "3.8.3"
  }
 },
 "nbformat": 4,
 "nbformat_minor": 4
}
