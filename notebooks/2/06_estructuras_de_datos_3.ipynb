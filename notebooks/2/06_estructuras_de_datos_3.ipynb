{
 "cells": [
  {
   "cell_type": "markdown",
   "metadata": {},
   "source": [
    "# Estructuras de datos 3: diccionarios\n",
    "Ya vimos listas, tuplas y strings, ahora vamos a ver la estructura de datos más usada en la comunicación web.\n",
    "## Diccionarios\n",
    "Los diccionarios (`dict`) se parecen a las listas pero tienen tres diferencias claves:\n",
    "1. No están ordenados.\n",
    "2. Accesamos a los valores con llaves (`str`) en vez de índices (`int`).\n",
    "3. Los declaramos con corchetes franceses (`{}`).  \n",
    "\n",
    "Veamos un ejemplo:"
   ]
  },
  {
   "cell_type": "code",
   "execution_count": null,
   "metadata": {},
   "outputs": [],
   "source": [
    "mi_diccionario = {'llave1': 3, 'llave2': 32.4, 'llave3': 'hola', 'llave4': [23, 23, 43, 88]}\n",
    "\n",
    "print(mi_diccionario['llave1'])\n",
    "print(mi_diccionario[\"llave2\"])"
   ]
  },
  {
   "cell_type": "markdown",
   "metadata": {},
   "source": [
    "**Todas** las llaves deben de ser strings pero los valores pueden ser de cualquier tipo.  \n",
    "\n",
    "Uno de los ejemplos más comunes de diccionarios son las formas de HTML. El siguiente ejemplo está relacionado a una forma de registro de un usuario:"
   ]
  },
  {
   "cell_type": "code",
   "execution_count": null,
   "metadata": {},
   "outputs": [],
   "source": [
    "info_registro = {'email': 'uriuriuri@klaymond.com', \n",
    "                 'contraseña': 'contra123', \n",
    "                 'dia_nacimiento': 13, \n",
    "                 'mes_nacimiento': 6,\n",
    "                 'ano_nacimiento': 1990}\n",
    "\n",
    "correo = info_registro['email']\n",
    "dominios_validos = ['gmail.com', 'aol.com', 'yahoo.mx', 'klaymond.com']\n",
    "respuesta_DB = False\n",
    "\n",
    "if '@' in correo:\n",
    "    for dominio in dominios_validos:\n",
    "        if dominio in correo:\n",
    "            print('Correo valido... guardando en la DB')\n",
    "            respuesta_DB = True\n",
    "\n",
    "if respuesta_DB:\n",
    "    print('Registro completo!')\n",
    "else:\n",
    "    raise Exception"
   ]
  },
  {
   "cell_type": "markdown",
   "metadata": {},
   "source": [
    "## Ejercicio: Itera sobre un diccionario\n",
    "Busca en tu motor de búsqueda favorito cómo puedes iterar sobre un dicionario y escribe un algoritmo aquí abajo:"
   ]
  },
  {
   "cell_type": "code",
   "execution_count": null,
   "metadata": {},
   "outputs": [],
   "source": []
  },
  {
   "cell_type": "markdown",
   "metadata": {},
   "source": [
    "## Listas de diccionarios\n",
    "Si queremos procesar información de una base de datos lo más probable es que nos llegue como una lista de diccionarios.  \n",
    "\n",
    "Veamos un ejemplo:"
   ]
  },
  {
   "cell_type": "code",
   "execution_count": null,
   "metadata": {},
   "outputs": [],
   "source": [
    "lista_de_dict = [{'usuario': 'uri', 'manzanas': 30},\n",
    "                 {'usuario': 'chuletita', 'manzanas': 4},\n",
    "                 {'usuario': 'ursula', 'manzanas': 10},\n",
    "                 {'usuario': 'kikarda', 'manzanas': 150}]\n",
    "\n",
    "for diccionario in lista_de_dict:\n",
    "    usuario = diccionario['usuario']\n",
    "    manzanas = str(diccionario['manzanas'])\n",
    "    print('El usuario ' + usuario + ' tiene ' + manzanas + ' manzanas')"
   ]
  },
  {
   "cell_type": "markdown",
   "metadata": {},
   "source": [
    "## Método get()\n",
    "Si no sabemos las llaves de un diccionario podemos tronar nuestro código si intentamos acceder a una llave inexistente:"
   ]
  },
  {
   "cell_type": "code",
   "execution_count": null,
   "metadata": {},
   "outputs": [],
   "source": [
    "frutas = {'manzanas': 3,\n",
    "          'platanos': 5,\n",
    "          'peras': 7}\n",
    "\n",
    "guayabas = frutas['guayabas']"
   ]
  },
  {
   "cell_type": "markdown",
   "metadata": {},
   "source": [
    "Con el método `get()` podemos recibir un `None` si no existe la llave:"
   ]
  },
  {
   "cell_type": "code",
   "execution_count": null,
   "metadata": {},
   "outputs": [],
   "source": [
    "frutas = {'manzanas': 3,\n",
    "          'platanos': 5,\n",
    "          'peras': 7}\n",
    "\n",
    "guayabas = frutas.get('guayabas')\n",
    "print(guayabas)"
   ]
  },
  {
   "cell_type": "markdown",
   "metadata": {},
   "source": [
    "Si le agregamos un argumento podemos cambiar el valor que se regresa para que no sea `None`:"
   ]
  },
  {
   "cell_type": "code",
   "execution_count": null,
   "metadata": {},
   "outputs": [],
   "source": [
    "frutas = {'manzanas': 3,\n",
    "          'platanos': 5,\n",
    "          'peras': 7}\n",
    "\n",
    "guayabas = frutas.get('guayabas', 0)\n",
    "print(guayabas)"
   ]
  },
  {
   "cell_type": "markdown",
   "metadata": {},
   "source": [
    "## Agregar llaves después de la definición\n",
    "Podemos agregar nuevas llaves asignándole un valor a una llave inexistente:"
   ]
  },
  {
   "cell_type": "code",
   "execution_count": null,
   "metadata": {},
   "outputs": [],
   "source": [
    "inventario = {\n",
    "    'pantalones': 5,\n",
    "    'camisetas': 4,\n",
    "    'calcetines': 8\n",
    "}\n",
    "\n",
    "zapatos = inventario.get('zapatos')\n",
    "print(zapatos)\n",
    "\n",
    "inventario['zapatos'] = 5\n",
    "\n",
    "\n",
    "zapatos = inventario.get('zapatos')\n",
    "print(zapatos)"
   ]
  }
 ],
 "metadata": {
  "kernelspec": {
   "display_name": "Python 3",
   "language": "python",
   "name": "python3"
  },
  "language_info": {
   "codemirror_mode": {
    "name": "ipython",
    "version": 3
   },
   "file_extension": ".py",
   "mimetype": "text/x-python",
   "name": "python",
   "nbconvert_exporter": "python",
   "pygments_lexer": "ipython3",
   "version": "3.6.9"
  }
 },
 "nbformat": 4,
 "nbformat_minor": 4
}
