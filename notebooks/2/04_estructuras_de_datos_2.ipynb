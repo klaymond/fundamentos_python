{
 "cells": [
  {
   "cell_type": "markdown",
   "metadata": {},
   "source": [
    "# Estructuras de datos 2: listas anidadas\n",
    "En la primera lección de estructuras de datos vimos que podíamos anidar listas. Vamos a ver para qué nos sirve anidar listas y cómo podemos accesar los datos usando `for`s anidados.\n",
    "\n",
    "## Listas anidadas:\n",
    "una lista anidada es una lista dentro de otra lista. Python nos permite anidar la cantidad de lista que queramos. A una lista simple se le llama una lista de una dimensión (1D), una lista que tiene listas anidadas se le llama una lista de dos dimensiones (2D), una lista que contienes listas anidadas que contienen listas anidadas se le llama una lista de tres dimensiones (3D), y así nos podemos ir hasta la dimensión infinito (o hasta que se nos acabe la memoria).  \n",
    "Veamos un ejemplo:"
   ]
  },
  {
   "cell_type": "code",
   "execution_count": 1,
   "metadata": {},
   "outputs": [],
   "source": [
    "lista_1d = [4, 5, 30, 12, 53, 49]\n",
    "\n",
    "lista_2d = [[23, 43, 67, 89], [34, 55, 34, 89], [43, 56, 97, 32]]\n",
    "lista_2d_acomodada = [[23, 43, 67, 89], \n",
    "                      [34, 55, 34, 89], \n",
    "                      [43, 56, 97, 32]]\n",
    "\n",
    "lista_3d = [[[43, 55, 42], [94, 34, 22], [31, 65, 42]],\n",
    "           [[54, 90, 53], [345, 49, 12], [64, 32, 90]],\n",
    "           [[92, 93, 30], [8, 25, 70], [901, 65, 34]]]"
   ]
  },
  {
   "cell_type": "markdown",
   "metadata": {},
   "source": [
    "Imprime las listas de la celda para visualizarlas.  \n",
    "  \n",
    "Vamos a intentar entender las listas anidadas con un ejemplo familiar de una estructura de datos compleja: Excel/Sheets. Si yo pongo datos en una sola fila pero en varias columnas de esa fila obtengo una lista 1D. Si agrego datos en más filas obtengo una lista 2D. Si tengo datos en varias filas, columnas y sheets entonces obtengo una lista 3D:"
   ]
  },
  {
   "cell_type": "code",
   "execution_count": 1,
   "metadata": {},
   "outputs": [],
   "source": [
    "import csv\n",
    "tabla_excel = [[\"Alumnx\", \"Manzanas\", \"Peras\", \"Platanos\"],\n",
    "              [\"Pau\", 3, 6, 8],\n",
    "              [\"Samuel\", 7, 3, 45],\n",
    "              [\"Caro\", 4, 9, 2],\n",
    "              [\"Silke\", 8, 7, 4],\n",
    "              [\"Juan\", 6, 8, 5]]\n",
    "\n",
    "with open('frutas.csv', 'w', newline='') as csvfile:\n",
    "    writer = csv.writer(csvfile)\n",
    "    writer.writerows(tabla_excel)"
   ]
  },
  {
   "cell_type": "markdown",
   "metadata": {},
   "source": [
    "Si corres este código se debe de crear un nuevo archivo en `fundamentos_python/notebooks/2` que se llama `frutas.csv`. Ábrelo con Excel y mira que la estructura es la misma. Cierra excel, cambia los valores de la lista anidada y vuelve a correr el código.  \n",
    "## Iteración anidada\n",
    "Si podemos anidar listas cómo no vamos a poder anidar ciclos. Si sólo corremos un `for` sobre la lista vamos a obtener cada lista dentro de ella:"
   ]
  },
  {
   "cell_type": "code",
   "execution_count": null,
   "metadata": {},
   "outputs": [],
   "source": [
    "anidada = [[3, 8, 1],\n",
    "          [4, 1, 10,],\n",
    "          [5, 5, 3]]\n",
    "\n",
    "for lista in anidada:\n",
    "    print(lista)"
   ]
  },
  {
   "cell_type": "markdown",
   "metadata": {},
   "source": [
    "Para accesar cada uno de los valores dentro de la lista necesitamos anidar `for`s:"
   ]
  },
  {
   "cell_type": "code",
   "execution_count": null,
   "metadata": {},
   "outputs": [],
   "source": [
    "anidada = [[3, 8, 1],\n",
    "          [4, 1, 10,],\n",
    "          [5, 5, 3]]\n",
    "\n",
    "for lista in anidada:\n",
    "    print(lista)\n",
    "    for objeto in lista:\n",
    "        print(objeto)\n",
    "\n",
    "print(\"Se acabó\")"
   ]
  },
  {
   "cell_type": "markdown",
   "metadata": {},
   "source": [
    "## Ejercicio: itera y agrega\n",
    "Agrega el valor `7000` después del `6000` en la lista `mis_numeros` usando `for`s anidados:"
   ]
  },
  {
   "cell_type": "code",
   "execution_count": 5,
   "metadata": {},
   "outputs": [],
   "source": [
    "mis_numeros = [10, 20, [300, 400, [5000, 6000], 500], 30, 40]"
   ]
  },
  {
   "cell_type": "markdown",
   "metadata": {},
   "source": [
    "## Ejercicio: agrega una sublista\n",
    "Agrega la `sub_lista` a `lista_de_letras` para que quede justo después de la `'g'` e imprímela:  \n",
    "input: ```[\"a\", \"b\", [\"c\", [\"d\", \"e\", [\"f\", \"g\"], \"k\"], \"l\"], \"m\", \"n\"]```  \n",
    "output: ```['a', 'b', ['c', ['d', 'e', ['f', 'g', 'h', 'i', 'j'], 'k'], 'l'], 'm', 'n']```  "
   ]
  },
  {
   "cell_type": "code",
   "execution_count": null,
   "metadata": {},
   "outputs": [],
   "source": [
    "lista_de_letras = [\"a\", \"b\", [\"c\", [\"d\", \"e\", [\"f\", \"g\"], \"k\"], \"l\"], \"m\", \"n\"]\n",
    "sub_lista = [\"h\", \"i\", \"j\"]\n"
   ]
  }
 ],
 "metadata": {
  "kernelspec": {
   "display_name": "Python 3",
   "language": "python",
   "name": "python3"
  },
  "language_info": {
   "codemirror_mode": {
    "name": "ipython",
    "version": 3
   },
   "file_extension": ".py",
   "mimetype": "text/x-python",
   "name": "python",
   "nbconvert_exporter": "python",
   "pygments_lexer": "ipython3",
   "version": "3.6.9"
  }
 },
 "nbformat": 4,
 "nbformat_minor": 4
}
