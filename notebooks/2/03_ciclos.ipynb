{
 "cells": [
  {
   "cell_type": "markdown",
   "metadata": {},
   "source": [
    "# Ciclos\n",
    "Los ciclos son una manera de correr el mismo código varias veces cambiando una o mas variables en el proceso. Hay dos tipos de ciclos (loops) en Python: `for` y `while`.\n",
    "\n",
    "## for\n",
    "El ciclo `for` nos permite **iterar** sobre una lista. La sintáxis es la siguiente:\n",
    "```python\n",
    "for var in list:\n",
    "    este codigo se va correr para cada objeto en la lista\n",
    "    este tambien\n",
    "    aqui tambien\n",
    "este codigo se corre una vez que se terminan los objetos en la lista\n",
    "este tambien\n",
    "```\n",
    "En este ejemplo la palabra clave `for` nos indica que vamos a empezar un ciclo for, la variable `var` va a cambiar de valor cada vez que se termine de correr el código indentado, y la lista `list` son los valores que va a tomar la variable.  \n",
    "Veamos un ejemplo:"
   ]
  },
  {
   "cell_type": "code",
   "execution_count": 3,
   "metadata": {},
   "outputs": [
    {
     "name": "stdout",
     "output_type": "stream",
     "text": [
      "San Vladimir\n",
      "Santa Juana de Arco\n",
      "San Ignacio\n",
      "San Jorge\n",
      "San José\n",
      "Ya se acabo mi ciclo for\n",
      "San José\n"
     ]
    }
   ],
   "source": [
    "santos = [\"San Vladimir\", \"Santa Juana de Arco\", \"San Ignacio\", \"San Jorge\", \"San José\"]\n",
    "\n",
    "for nombre in santos:\n",
    "    print(nombre)\n",
    "print(\"Ya se acabo mi ciclo for\")\n",
    "print(nombre)"
   ]
  },
  {
   "cell_type": "markdown",
   "metadata": {},
   "source": [
    "Observa cómo imprimimos cada santo dentro de la lista individualmete usando el ciclo. Nota que el código indentado es el único que se corre varias veces.  \n",
    "Veamos un ejemplo más robusto (antes de correrlo lee el código e intenta entender qué es lo que hace el algoritmo):"
   ]
  },
  {
   "cell_type": "code",
   "execution_count": 4,
   "metadata": {},
   "outputs": [
    {
     "ename": "TypeError",
     "evalue": "must be str, not int",
     "output_type": "error",
     "traceback": [
      "\u001b[0;31m---------------------------------------------------------------------------\u001b[0m",
      "\u001b[0;31mTypeError\u001b[0m                                 Traceback (most recent call last)",
      "\u001b[0;32m<ipython-input-4-0eacec191ac4>\u001b[0m in \u001b[0;36m<module>\u001b[0;34m\u001b[0m\n\u001b[1;32m     16\u001b[0m \u001b[0mcienes\u001b[0m \u001b[0;34m=\u001b[0m \u001b[0mstr\u001b[0m\u001b[0;34m(\u001b[0m\u001b[0mcienes\u001b[0m\u001b[0;34m)\u001b[0m\u001b[0;34m\u001b[0m\u001b[0;34m\u001b[0m\u001b[0m\n\u001b[1;32m     17\u001b[0m \u001b[0;34m\u001b[0m\u001b[0m\n\u001b[0;32m---> 18\u001b[0;31m \u001b[0mprint\u001b[0m\u001b[0;34m(\u001b[0m\u001b[0;34m\"Cantidad de alumnos reprobados: \"\u001b[0m \u001b[0;34m+\u001b[0m \u001b[0mreprobados\u001b[0m\u001b[0;34m)\u001b[0m\u001b[0;34m\u001b[0m\u001b[0;34m\u001b[0m\u001b[0m\n\u001b[0m\u001b[1;32m     19\u001b[0m \u001b[0mprint\u001b[0m\u001b[0;34m(\u001b[0m\u001b[0;34m\"Cantidad de alumnos aprobados: \"\u001b[0m \u001b[0;34m+\u001b[0m \u001b[0maprobados\u001b[0m\u001b[0;34m)\u001b[0m\u001b[0;34m\u001b[0m\u001b[0;34m\u001b[0m\u001b[0m\n\u001b[1;32m     20\u001b[0m \u001b[0mprint\u001b[0m\u001b[0;34m(\u001b[0m\u001b[0;34m\"Cantidad de alumnos con cien: \"\u001b[0m \u001b[0;34m+\u001b[0m \u001b[0mcienes\u001b[0m\u001b[0;34m)\u001b[0m\u001b[0;34m\u001b[0m\u001b[0;34m\u001b[0m\u001b[0m\n",
      "\u001b[0;31mTypeError\u001b[0m: must be str, not int"
     ]
    }
   ],
   "source": [
    "calificaciones = [40.5, 60.2, 70.88, 30.0, 90.4, 85.2, 10.2, 100.0, 100.0, 35.5]\n",
    "aprobados = 0\n",
    "reprobados = 0\n",
    "cienes = 0\n",
    "\n",
    "for calificacion in calificaciones:\n",
    "    if calificacion < 60.0:\n",
    "        reprobados += 1\n",
    "    else:\n",
    "        if calificacion == 100.0:\n",
    "            cienes += 1\n",
    "        aprobados += 1\n",
    "        \n",
    "reprobados = str(reprobados)\n",
    "aprobados = str(aprobados)\n",
    "cienes = str(cienes)\n",
    "\n",
    "print(\"Cantidad de alumnos reprobados: \" + reprobados)\n",
    "print(\"Cantidad de alumnos aprobados: \" + aprobados)\n",
    "print(\"Cantidad de alumnos con cien: \" + cienes)"
   ]
  },
  {
   "cell_type": "markdown",
   "metadata": {},
   "source": [
    "### La función range()\n",
    "Python nos permite iterar usando enteros consecutivos como la variable que cambia. Esto es especialmente útil cuando tenemos dos listas con relación 1:1 o cuando quieres que el el ciclo se corra una cierta cantidad de veces. La función nos deja iterar sobre números enteros consecutivos que llegan hasta el valor que le metas como argumento menos uno.\n",
    "Veamos unos ejemplos:"
   ]
  },
  {
   "cell_type": "code",
   "execution_count": 5,
   "metadata": {},
   "outputs": [
    {
     "name": "stdout",
     "output_type": "stream",
     "text": [
      "0\n",
      "1\n",
      "2\n",
      "3\n",
      "4\n",
      "5\n",
      "6\n",
      "7\n",
      "8\n",
      "9\n",
      "\n",
      "1\n",
      "2\n",
      "3\n",
      "4\n",
      "5\n",
      "\n",
      "Rajiv se sacó 40.5 en geografía.\n",
      "Ashu se sacó 60.2 en geografía.\n",
      "Rebbeca se sacó 70.88 en geografía.\n",
      "Emily se sacó 30.0 en geografía.\n",
      "Chutong se sacó 90.4 en geografía.\n",
      "Pedro se sacó 85.2 en geografía.\n",
      "Uri se sacó 10.2 en geografía.\n",
      "Grant se sacó 100.0 en geografía.\n",
      "Emma se sacó 100.0 en geografía.\n",
      "Rod se sacó 35.5 en geografía.\n",
      "\n",
      "Los siguientes ids corresponden a a tweets de Lopez Obrador:\n",
      "[32412334, 32432423, 214321234]\n"
     ]
    }
   ],
   "source": [
    "for i in range(10):\n",
    "    print(i)\n",
    "print() \n",
    "\n",
    "\n",
    "for numero in range(5):\n",
    "    print(numero + 1)\n",
    "print()\n",
    "\n",
    "\n",
    "calificaciones = [40.5, 60.2, 70.88, 30.0, 90.4, 85.2, 10.2, 100.0, 100.0, 35.5]\n",
    "alumnxs = [\"Rajiv\", \"Ashu\", \"Rebbeca\", \"Emily\", \"Chutong\", \"Pedro\", \"Uri\", \"Grant\", \"Emma\", \"Rod\"]\n",
    "\n",
    "for index in range(len(calificaciones)):\n",
    "    calificacion = str(calificaciones[index])\n",
    "    alumnx = alumnxs[index]\n",
    "    print(alumnx + \" se sacó \" + str(calificacion) + \" en geografía.\")\n",
    "print()\n",
    "\n",
    "\n",
    "tweet_id = [123432, 32412334, 4345435243, 32432423, 242341, 214321234]\n",
    "handle = [\"@uriuriuri\", \"@lopezobrador_\", \"@la_chusmaXD\", \"@lopezobrador_\", \"@uriuriuri\", \"@lopezobrador_\"]\n",
    "resultado = []\n",
    "\n",
    "for i in range(len(tweet_id)):\n",
    "    if handle[i] == \"@lopezobrador_\":\n",
    "        resultado.append(tweet_id[i])\n",
    "print(\"Los siguientes ids corresponden a a tweets de Lopez Obrador:\")\n",
    "print(resultado)"
   ]
  },
  {
   "cell_type": "markdown",
   "metadata": {},
   "source": [
    "## while\n",
    "El ciclo `while` nos permite iterar hasta que se deje de cumplir una condición. La sintáxis es la siguiente:\n",
    "```python\n",
    "while condicion:\n",
    "    este codigo se va correr hasta que se deje de cumplir la condicion\n",
    "    este tambien\n",
    "    aqui tambien\n",
    "este codigo se corre una vez que se terminan los objetos en la lista\n",
    "este tambien\n",
    "```\n",
    "En este ejemplo la palabra clave for nos indica que vamos a empezar un ciclo for, la variable var va a cambiar de valor cada vez que se termine de correr el código indentado, y la lista list son los valores que va a tomar la variable.  \n",
    "Veamos un ejemplo:"
   ]
  },
  {
   "cell_type": "code",
   "execution_count": 8,
   "metadata": {},
   "outputs": [
    {
     "name": "stdout",
     "output_type": "stream",
     "text": [
      "Tweet actual: 0\n",
      "Tweet actual: 1\n",
      "Tweet actual: 2\n",
      "Tweet actual: 3\n",
      "Tweet actual: 4\n",
      "Tweet actual: 5\n",
      "Tweet actual: 6\n",
      "Tweet actual: 7\n",
      "Tweet actual: 8\n",
      "Tweet actual: 9\n",
      "Esos fueron los tweets\n"
     ]
    }
   ],
   "source": [
    "numero_de_tweets = 10\n",
    "tweet_actual = 0\n",
    "\n",
    "while tweet_actual < numero_de_tweets:\n",
    "    print(\"Tweet actual: \" + str(tweet_actual))\n",
    "    tweet_actual += 1\n",
    "print(\"Esos fueron los tweets\")"
   ]
  },
  {
   "cell_type": "markdown",
   "metadata": {},
   "source": [
    "El ciclo `while` no se usa tanto como el `for` pero igual es una herramienta que está a su alcance si la necesitan en algún momento.\n",
    "\n",
    "## Bonus: usando \"in\" en condiciones\n",
    "En los ciclos `for` usamos la palabra clave `in` para indicar la variable que va a representar lo objetos dentro de una lista. Esa misma palabra clave se puede usar en condiciones para saber si un objeto se encuentra o no dentro de una lista o si una string se entuentra dentro de otra.  \n",
    "Ejemplos:"
   ]
  },
  {
   "cell_type": "code",
   "execution_count": 13,
   "metadata": {},
   "outputs": [
    {
     "name": "stdout",
     "output_type": "stream",
     "text": [
      "Sí está el número en la lista\n",
      "\n",
      "Los siguientes tweets mencionan el hashtag #AMLO\n",
      "[]\n"
     ]
    }
   ],
   "source": [
    "mi_lista = [40.5, 34.2, 80.45, 80.45, 30.92, 45.55]\n",
    "numero = 80.45\n",
    "\n",
    "if numero in mi_lista:\n",
    "    print(\"Sí está el número en la lista\")\n",
    "else:\n",
    "    print(\"No está el número en la lista\")\n",
    "print()\n",
    "\n",
    "tweets = [\"Hola, mundo #Python #Hackerman\", \"Amo a mi presidente #AMLO\", \"Amo el canto del cenzontle #Neza #100\",\n",
    "         \"Odio a mi presidente #AMLO\", \"Ariba el norte #cabrones #orgullonorteño\", \n",
    "          \"Hombres necios que acusais a la mujer sin razon #200 #SorJuana\"]\n",
    "resultado = []\n",
    "for tweet in tweets:\n",
    "    if tweet in \"#AMLO\":\n",
    "        resultado.append(tweet)\n",
    "print(\"Los siguientes tweets mencionan el hashtag #AMLO\")\n",
    "print(resultado)"
   ]
  },
  {
   "cell_type": "markdown",
   "metadata": {},
   "source": [
    "## Ejercicio: DropTheIBot\n",
    "Dada una lista de tweets y otra de usuarios (con relación 1:1) imprime una lista de usuarios que en su tweet mencionen \"ideología de género\", \"ideologia de genero\", o \"ideolojia de jenero\":"
   ]
  },
  {
   "cell_type": "code",
   "execution_count": 15,
   "metadata": {},
   "outputs": [],
   "source": [
    "tweets = [\"Pinche ideología de género... me quitaron mi trabajo y se lo dieron a una vieja porque cobra menos\",\n",
    "         \"Creen que estoy loco pero la ideolojia de jenero es una conspiracion judia para apoderarse del mundo\",\n",
    "         \"Billie Eilish <3 #love #buryme\", \"Amo el canto del cenzontle #love #400voces #100\",\n",
    "         \"la IDEOLOGÍA DE GÉNERO es lo mejor <3 #queer #epistemologiadelcloset\"]\n",
    "usuarios = [\"@juanito\", \"@qanon\", \"@billie_love\", \"@neza_bb\", \"@eksedg\"]\n",
    "\n",
    "string = ''\n",
    "\n",
    "if string:\n",
    "    print('shalom')"
   ]
  },
  {
   "cell_type": "markdown",
   "metadata": {},
   "source": [
    "## Ejercicio: Encuentra el número más chico en una lista\n",
    "Dada una lista de enteros, encuentra el valor más chico dentro de esa lista:"
   ]
  },
  {
   "cell_type": "code",
   "execution_count": 1,
   "metadata": {},
   "outputs": [],
   "source": [
    "numeros = [45, 23, -2, 4, 9, 1, 100, 44, 55]\n"
   ]
  },
  {
   "cell_type": "markdown",
   "metadata": {},
   "source": [
    "Ahora intenta encontrar el valor más grande :). ¿Puedes encontrar el segundo número más grande?"
   ]
  }
 ],
 "metadata": {
  "kernelspec": {
   "display_name": "Python 3",
   "language": "python",
   "name": "python3"
  },
  "language_info": {
   "codemirror_mode": {
    "name": "ipython",
    "version": 3
   },
   "file_extension": ".py",
   "mimetype": "text/x-python",
   "name": "python",
   "nbconvert_exporter": "python",
   "pygments_lexer": "ipython3",
   "version": "3.6.9"
  }
 },
 "nbformat": 4,
 "nbformat_minor": 4
}
