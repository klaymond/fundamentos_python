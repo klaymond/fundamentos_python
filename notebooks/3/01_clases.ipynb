{
 "cells": [
  {
   "cell_type": "markdown",
   "metadata": {},
   "source": [
    "# Clases\n",
    "Al principio del curso les mencioné que Python es un lenguaje de programación orientado a objetos (OOP por sus siglas en inglés). Las clases son planos que definen los **atributos** y **métodos** de nuestro objeto.  \n",
    "  \n",
    "## Atributos\n",
    "Vamos a crear una clase que nos represente objetos de tipo `Perro`:"
   ]
  },
  {
   "cell_type": "code",
   "execution_count": 5,
   "metadata": {},
   "outputs": [],
   "source": [
    "class Perro:\n",
    "    \n",
    "    def __init__(self):\n",
    "        self.name = 'Firulais'\n",
    "        self.breed = 'Golden Retriever'\n",
    "        self.color = 'Blond'"
   ]
  },
  {
   "cell_type": "markdown",
   "metadata": {},
   "source": [
    "Para definir una clase usamos la palabra clave `class`, luego ponemos el nombre de la clase y dos puntos. Siempre debemos de tener un **método** `__init__(self)` dentro de la clase para definir las acciones de inicialización.  \n",
    "Ahora vamos a crear objetos de tipo `Perro`:"
   ]
  },
  {
   "cell_type": "code",
   "execution_count": null,
   "metadata": {},
   "outputs": [],
   "source": [
    "mi_perrito = Perro()\n",
    "\n",
    "print(mi_perrito.name)\n",
    "print(mi_perrito.breed)\n",
    "print(mi_perrito.color)\n",
    "print(type(mi_perrito))"
   ]
  },
  {
   "cell_type": "markdown",
   "metadata": {},
   "source": [
    "Vamos a redefinir nuestra clase `Perro` para que le podamos poner los atributos que queramos al crear el objeto:"
   ]
  },
  {
   "cell_type": "code",
   "execution_count": 8,
   "metadata": {},
   "outputs": [],
   "source": [
    "class Perro:\n",
    "    \n",
    "    def __init__(self, name, breed, color):\n",
    "        self.name = name\n",
    "        self.breed = breed\n",
    "        self.color = color"
   ]
  },
  {
   "cell_type": "markdown",
   "metadata": {},
   "source": [
    "Ahora vamos a crear varios perritos:"
   ]
  },
  {
   "cell_type": "code",
   "execution_count": null,
   "metadata": {},
   "outputs": [],
   "source": [
    "mi_perrito = Perro(\"Kiki\", \"Bulldog\", \"Cafe\")\n",
    "otro_perrito = Perro(\"Luna\", \"Poodle\", \"Blanco\")\n",
    "un_salchicha = Perro(\"Chandra\", \"Rottweiler\", \"Negro\")\n",
    "\n",
    "print(mi_perrito.name)\n",
    "print(mi_perrito.breed)\n",
    "print(mi_perrito.color)\n",
    "print(type(mi_perrito))\n",
    "print()\n",
    "\n",
    "print(otro_perrito.name)\n",
    "print(otro_perrito.breed)\n",
    "print(otro_perrito.color)\n",
    "print(type(otro_perrito))\n",
    "print()\n",
    "\n",
    "print(un_salchicha.name)\n",
    "print(un_salchicha.breed)\n",
    "print(un_salchicha.color)\n",
    "print(type(un_salchicha))\n",
    "print()"
   ]
  },
  {
   "cell_type": "markdown",
   "metadata": {},
   "source": [
    "En la clase de listas aprendimos que le podíamos meter cualquier tipo de objeto a una lista. Vamos a hacer una lista de perros:"
   ]
  },
  {
   "cell_type": "code",
   "execution_count": null,
   "metadata": {},
   "outputs": [],
   "source": [
    "mis_perros = [un_salchicha, otro_perrito, mi_perrito]\n",
    "\n",
    "print(\"Los nombres de mis perros son:\")\n",
    "\n",
    "for perro in mis_perros:\n",
    "    print(perro.name)"
   ]
  },
  {
   "cell_type": "markdown",
   "metadata": {},
   "source": [
    "## Métodos\n",
    "Ahora vamos a agregarle funciones a nuestra clase. Todas las funciones dentro de una clase se les llama métodos. Vamos a crear una nueva clase `PerroEntrenado` que tenga métodos:"
   ]
  },
  {
   "cell_type": "code",
   "execution_count": 12,
   "metadata": {},
   "outputs": [],
   "source": [
    "class PerroEntrenado:\n",
    "    \n",
    "    def __init__(self, name, breed, color):\n",
    "        self.name = name\n",
    "        self.breed = breed\n",
    "        self.color = color\n",
    "        self.is_seated = False\n",
    "        self.times_rolled = 0\n",
    "    \n",
    "    def sit(self):\n",
    "        print(\"The dog just sat\")\n",
    "        self.is_seated = True\n",
    "        \n",
    "    def stand(self):\n",
    "        print(\"The dog stood up\")\n",
    "        self.is_seated = False\n",
    "        \n",
    "    def fetch(self, toy):\n",
    "        if not self.is_seated:\n",
    "            print(\"The dog fetched the \" + toy)\n",
    "        else:\n",
    "            print(\"The dog cannot fetch while it is seated\")"
   ]
  },
  {
   "cell_type": "markdown",
   "metadata": {},
   "source": [
    "Nota que todos los métodos toman `self` como argumento. Esto nos permite llamar los métodos con la notación `nombre_de_mi_var.nombre_del_metodo(arg1, arg2)`.  \n",
    "  \n",
    "Vamos a usar los métodos que definimos:"
   ]
  },
  {
   "cell_type": "code",
   "execution_count": null,
   "metadata": {},
   "outputs": [],
   "source": [
    "mascota = PerroEntrenado(\"Mallory\", \"Beagle\", \"Mixto\")\n",
    "\n",
    "print(mascota.is_seated)\n",
    "print()\n",
    "\n",
    "mascota.sit()\n",
    "print()\n",
    "\n",
    "print(mascota.is_seated)\n",
    "print()\n",
    "\n",
    "mascota.fetch(\"stick\")"
   ]
  },
  {
   "cell_type": "markdown",
   "metadata": {},
   "source": [
    "## Ejemplo: Old McDonald had a farm\n",
    "Vamos a simular una granja. Primero necesitamos las clases que representen nuestros animales:"
   ]
  },
  {
   "cell_type": "code",
   "execution_count": 1,
   "metadata": {},
   "outputs": [],
   "source": [
    "class Cow:\n",
    "    \n",
    "    def __init__(self, name, feed_time, age):\n",
    "        \"\"\"\n",
    "        Este método mágico ()\n",
    "        \"\"\"\n",
    "        self.name = name\n",
    "        self.feed_time = feed_time\n",
    "        self.age = age\n",
    "        self.sound = \"Moo Moo\"\n",
    "        self.animal = \"cow\"\n",
    "        self.x = 0\n",
    "        self.y = 0\n",
    "        \n",
    "    def make_sound(self):\n",
    "        return self.sound\n",
    "    \n",
    "    def __str__(self):\n",
    "        return self.animal\n",
    "    \n",
    "    def __eq__(self, other_animal):\n",
    "        return self.animal == other_animal.animal\n",
    "    \n",
    "    \n",
    "    def move(self, x_pos, y_pos):\n",
    "        self.x += x_pos\n",
    "        self.y += y_pos\n",
    "        return (self.x, self.y)\n",
    "    \n",
    "################################################################################################################  \n",
    "        \n",
    "class Duck:\n",
    "    \n",
    "    def __init__(self, name, feed_time, age):\n",
    "        self.name = name\n",
    "        self.feed_time = feed_time\n",
    "        self.age = age\n",
    "        self.sound = \"Quack Quack\"\n",
    "        self.animal = \"duck\"\n",
    "        self.x = 0\n",
    "        self.y = 0\n",
    "        \n",
    "    def make_sound(self):\n",
    "        return self.sound\n",
    "    \n",
    "    def __str__(self):\n",
    "        return self.animal\n",
    "\n",
    "    \n",
    "    def __eq__(self, other_animal):\n",
    "        return self.animal == other_animal.animal\n",
    "    \n",
    "    \n",
    "    def move(self, x_pos, y_pos):\n",
    "        self.x += x_pos\n",
    "        self.y += y_pos\n",
    "        return (self.x, self.y)\n",
    "\n",
    "################################################################################################################\n",
    "    \n",
    "class Horse:\n",
    "    \n",
    "    def __init__(self, name, feed_time, age):\n",
    "        self.name = name\n",
    "        self.feed_time = feed_time\n",
    "        self.age = age\n",
    "        self.sound = \"Neigh Neigh\"\n",
    "        self.animal = \"horse\"\n",
    "        self.x = 0\n",
    "        self.y = 0\n",
    "        \n",
    "            \n",
    "    def make_sound(self):\n",
    "        return self.sound\n",
    "    \n",
    "    def __str__(self):\n",
    "        return self.animal\n",
    "\n",
    "    \n",
    "    def __eq__(self, other_animal):\n",
    "        return self.animal == other_animal.animal\n",
    "    \n",
    "    \n",
    "    def move(self, x_pos, y_pos):\n",
    "        self.x += x_pos\n",
    "        self.y += y_pos\n",
    "        return (self.x, self.y)\n",
    "\n",
    "################################################################################################################\n",
    "\n",
    "class Pig:\n",
    "    \n",
    "    def __init__(self, name, feed_time, age):\n",
    "        self.name = name\n",
    "        self.feed_time = feed_time\n",
    "        self.age = age\n",
    "        self.sound = \"Oink Oink\"\n",
    "        self.animal = \"pig\"\n",
    "        self.x = 0\n",
    "        self.y = 0\n",
    "        \n",
    "            \n",
    "    def make_sound(self):\n",
    "        return self.sound\n",
    "    \n",
    "    def __str__(self):\n",
    "        return self.animal\n",
    "    \n",
    "    \n",
    "    def __eq__(self, other_animal):\n",
    "        return self.animal == other_animal.animal\n",
    "    \n",
    "        \n",
    "    "
   ]
  },
  {
   "cell_type": "markdown",
   "metadata": {},
   "source": [
    "Ahora necesitamos una clase que represente nuestra granja:"
   ]
  },
  {
   "cell_type": "code",
   "execution_count": 27,
   "metadata": {},
   "outputs": [
    {
     "name": "stdout",
     "output_type": "stream",
     "text": [
      "{\n",
      "                \"pigs_in_the_farm\": ['pig', 'pig', 'pig']\n",
      "                \"horses_in_the_farm\": ['horse', 'horse']\n",
      "}\n",
      "\n",
      "\n",
      "\n",
      "                    Old McDonald had a farm E-I-E-I-O \n",
      "\n",
      "                        And in his farm he had 3 pigs E-I-E-I-O\n",
      "                        With a Oink Oink here and a Oink Oink there\n",
      "                        Oink Oink Oink Oink everywhere\n",
      "                        \n",
      "                    Old McDonald had a farm E-I-E-I-O \n",
      "\n",
      "                        And in his farm he had 2 horses E-I-E-I-O\n",
      "                        With a Neigh Neigh here and a Neigh Neigh there\n",
      "                        Neigh Neigh Neigh Neigh everywhere\n",
      "                        \n",
      "                    Old McDonald had a farm E-I-E-I-O \n",
      "\n"
     ]
    }
   ],
   "source": [
    "import json\n",
    "\n",
    "class Farm:\n",
    "    \n",
    "    def __init__(self, name, owner, animal_list, grid_size):\n",
    "        self.name = name\n",
    "        self.owner = owner\n",
    "        self.max_x = grid_size[0]\n",
    "        self.max_y = grid_size[1]\n",
    "        self.animals = {}\n",
    "        \n",
    "        for animal in animal_list:\n",
    "            animal_type = str(animal)\n",
    "            current_list = self.animals.get(animal_type)\n",
    "            if current_list is None:\n",
    "                self.animals[animal_type] = [animal]\n",
    "            else:\n",
    "                self.animals[animal_type].append(animal)\n",
    "        \n",
    "    def sing(self):\n",
    "        song = f\"\"\"\n",
    "                    Old {self.owner} had a farm E-I-E-I-O \\n\"\"\"\n",
    "        repeated_part = song\n",
    "        \n",
    "        for key, value in self.animals.items():\n",
    "            quantity = len(value)\n",
    "            example_animal = value[0]\n",
    "            song += f\"\"\"\n",
    "                        And in his farm he had {quantity} {example_animal}s E-I-E-I-O\n",
    "                        With a {example_animal.sound} here and a {example_animal.sound} there\n",
    "                        {example_animal.sound} {example_animal.sound} everywhere\n",
    "                        \"\"\"\n",
    "            song += repeated_part\n",
    "        print(song)\n",
    "    \n",
    "    def __str__(self):\n",
    "        string = \"{\"\n",
    "        \n",
    "        for key, value in self.animals.items():\n",
    "            string +=f'''\n",
    "                \"{key}s_in_the_farm\": {[str(s) for s in value]}'''\n",
    "        string += \"\\n}\"\n",
    "        return string\n",
    "        \n",
    "\n",
    "cochinito1 = Pig(\"cochina1\", [7, 19], 5)\n",
    "cochinito2 = Pig(\"cochina2\", [7, 19], 4)\n",
    "cochinito3 = Pig(\"cochina3\", [7, 19], 5)\n",
    "caballito1 = Horse(\"caballita1\", [10, 15], 8)\n",
    "caballito2 = Horse(\"caballita2\", [10, 15], 7)\n",
    "lista = [cochinito1, cochinito2, cochinito3, caballito1, caballito2]\n",
    "\n",
    "my_farm = Farm(\"HOLA\", \"McDonald\", lista, (10, 10))\n",
    "print(str(my_farm))\n",
    "print()\n",
    "print()\n",
    "my_farm.sing()"
   ]
  },
  {
   "cell_type": "markdown",
   "metadata": {},
   "source": []
  }
 ],
 "metadata": {
  "kernelspec": {
   "display_name": "Python 3",
   "language": "python",
   "name": "python3"
  },
  "language_info": {
   "codemirror_mode": {
    "name": "ipython",
    "version": 3
   },
   "file_extension": ".py",
   "mimetype": "text/x-python",
   "name": "python",
   "nbconvert_exporter": "python",
   "pygments_lexer": "ipython3",
   "version": "3.6.9"
  }
 },
 "nbformat": 4,
 "nbformat_minor": 4
}
